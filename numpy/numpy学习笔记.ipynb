{
 "cells": [
  {
   "cell_type": "markdown",
   "metadata": {},
   "source": [
    "CSDN：http://blog.csdn.net/kicilove/article/ \n",
    "\n",
    "github：https://github.com/zhaohuicici?tab=repositories "
   ]
  },
  {
   "cell_type": "code",
   "execution_count": 1,
   "metadata": {
    "collapsed": false
   },
   "outputs": [
    {
     "name": "stdout",
     "output_type": "stream",
     "text": [
      "<class 'numpy.ndarray'>\n"
     ]
    }
   ],
   "source": [
    "import numpy\n",
    "\n",
    "world_alcohol = numpy.genfromtxt(\"world_alcohol.txt\", delimiter=\",\")\n",
    "print(type(world_alcohol))"
   ]
  },
  {
   "cell_type": "code",
   "execution_count": 2,
   "metadata": {
    "collapsed": false
   },
   "outputs": [
    {
     "name": "stdout",
     "output_type": "stream",
     "text": [
      "[ 5 10 15 20]\n",
      "[[ 5 10 15]\n",
      " [20 25 30]\n",
      " [35 40 45]]\n"
     ]
    }
   ],
   "source": [
    "#The numpy.array() function can take a list or list of lists as input. When we input a list, we get a one-dimensional array as a result:\n",
    "vector = numpy.array([5, 10, 15, 20])\n",
    "#When we input a list of lists, we get a matrix as a result:\n",
    "matrix = numpy.array([[5, 10, 15], [20, 25, 30], [35, 40, 45]])\n",
    "print (vector)\n",
    "print (matrix)"
   ]
  },
  {
   "cell_type": "code",
   "execution_count": 3,
   "metadata": {
    "collapsed": false
   },
   "outputs": [
    {
     "name": "stdout",
     "output_type": "stream",
     "text": [
      "(4,)\n",
      "(2, 3)\n"
     ]
    }
   ],
   "source": [
    "#We can use the ndarray.shape property to figure out how many elements are in the array\n",
    "vector = numpy.array([1, 2, 3, 4])\n",
    "print(vector.shape)\n",
    "#For matrices, the shape property contains a tuple with 2 elements.\n",
    "matrix = numpy.array([[5, 10, 15], [20, 25, 30]])\n",
    "print(matrix.shape)"
   ]
  },
  {
   "cell_type": "code",
   "execution_count": 4,
   "metadata": {
    "collapsed": false
   },
   "outputs": [
    {
     "data": {
      "text/plain": [
       "dtype('int32')"
      ]
     },
     "execution_count": 4,
     "metadata": {},
     "output_type": "execute_result"
    }
   ],
   "source": [
    "#Each value in a NumPy array has to have the same data type\n",
    "#NumPy will automatically figure out an appropriate data type when reading in data or converting lists to arrays. \n",
    "#You can check the data type of a NumPy array using the dtype property.\n",
    "numbers = numpy.array([1, 2, 3, 4])\n",
    "numbers.dtype"
   ]
  },
  {
   "cell_type": "code",
   "execution_count": 5,
   "metadata": {
    "collapsed": false
   },
   "outputs": [
    {
     "data": {
      "text/plain": [
       "array([[             nan,              nan,              nan,\n",
       "                     nan,              nan],\n",
       "       [  1.98600000e+03,              nan,              nan,\n",
       "                     nan,   0.00000000e+00],\n",
       "       [  1.98600000e+03,              nan,              nan,\n",
       "                     nan,   5.00000000e-01],\n",
       "       ..., \n",
       "       [  1.98700000e+03,              nan,              nan,\n",
       "                     nan,   7.50000000e-01],\n",
       "       [  1.98900000e+03,              nan,              nan,\n",
       "                     nan,   1.50000000e+00],\n",
       "       [  1.98500000e+03,              nan,              nan,\n",
       "                     nan,   3.10000000e-01]])"
      ]
     },
     "execution_count": 5,
     "metadata": {},
     "output_type": "execute_result"
    }
   ],
   "source": [
    "#When NumPy can't convert a value to a numeric data type like float or integer, it uses a special nan value that stands for Not a Number\n",
    "#nan is the missing data\n",
    "#1.98600000e+03 is actually 1.986 * 10 ^ 3\n",
    "world_alcohol"
   ]
  },
  {
   "cell_type": "code",
   "execution_count": 6,
   "metadata": {
    "collapsed": false
   },
   "outputs": [
    {
     "name": "stdout",
     "output_type": "stream",
     "text": [
      "[['1986' 'Western Pacific' 'Viet Nam' 'Wine' '0']\n",
      " ['1986' 'Americas' 'Uruguay' 'Other' '0.5']\n",
      " ['1985' 'Africa' \"Cte d'Ivoire\" 'Wine' '1.62']\n",
      " ..., \n",
      " ['1987' 'Africa' 'Malawi' 'Other' '0.75']\n",
      " ['1989' 'Americas' 'Bahamas' 'Wine' '1.5']\n",
      " ['1985' 'Africa' 'Malawi' 'Spirits' '0.31']]\n"
     ]
    }
   ],
   "source": [
    "world_alcohol = numpy.genfromtxt(\"world_alcohol.txt\", delimiter=\",\", dtype=\"U75\", skip_header=1)\n",
    "print(world_alcohol)"
   ]
  },
  {
   "cell_type": "code",
   "execution_count": 7,
   "metadata": {
    "collapsed": false
   },
   "outputs": [
    {
     "name": "stdout",
     "output_type": "stream",
     "text": [
      "0.5\n",
      "Cte d'Ivoire\n"
     ]
    }
   ],
   "source": [
    "uruguay_other_1986 = world_alcohol[1,4]\n",
    "third_country = world_alcohol[2,2]\n",
    "print (uruguay_other_1986)\n",
    "print (third_country)"
   ]
  },
  {
   "cell_type": "code",
   "execution_count": 8,
   "metadata": {
    "collapsed": false
   },
   "outputs": [
    {
     "name": "stdout",
     "output_type": "stream",
     "text": [
      "[ 5 10 15]\n"
     ]
    }
   ],
   "source": [
    "vector = numpy.array([5, 10, 15, 20])\n",
    "print(vector[0:3])  "
   ]
  },
  {
   "cell_type": "code",
   "execution_count": 9,
   "metadata": {
    "collapsed": false
   },
   "outputs": [
    {
     "name": "stdout",
     "output_type": "stream",
     "text": [
      "[10 25 40]\n"
     ]
    }
   ],
   "source": [
    "matrix = numpy.array([\n",
    "                    [5, 10, 15], \n",
    "                    [20, 25, 30],\n",
    "                    [35, 40, 45]\n",
    "                 ])\n",
    "print(matrix[:,1])"
   ]
  },
  {
   "cell_type": "code",
   "execution_count": 10,
   "metadata": {
    "collapsed": false
   },
   "outputs": [
    {
     "name": "stdout",
     "output_type": "stream",
     "text": [
      "[[ 5 10]\n",
      " [20 25]\n",
      " [35 40]]\n"
     ]
    }
   ],
   "source": [
    "matrix = numpy.array([\n",
    "                    [5, 10, 15], \n",
    "                    [20, 25, 30],\n",
    "                    [35, 40, 45]\n",
    "                 ])\n",
    "print(matrix[:,0:2])"
   ]
  },
  {
   "cell_type": "code",
   "execution_count": 11,
   "metadata": {
    "collapsed": false
   },
   "outputs": [
    {
     "name": "stdout",
     "output_type": "stream",
     "text": [
      "[[20 25]\n",
      " [35 40]]\n"
     ]
    }
   ],
   "source": [
    "matrix = numpy.array([\n",
    "                    [5, 10, 15], \n",
    "                    [20, 25, 30],\n",
    "                    [35, 40, 45]\n",
    "                 ])\n",
    "print(matrix[1:3,0:2])"
   ]
  },
  {
   "cell_type": "code",
   "execution_count": 12,
   "metadata": {
    "collapsed": false
   },
   "outputs": [
    {
     "data": {
      "text/plain": [
       "array([False,  True, False, False], dtype=bool)"
      ]
     },
     "execution_count": 12,
     "metadata": {},
     "output_type": "execute_result"
    }
   ],
   "source": [
    "import numpy\n",
    "#it will compare the second value to each element in the vector\n",
    "# If the values are equal, the Python interpreter returns True; otherwise, it returns False\n",
    "vector = numpy.array([5, 10, 15, 20])\n",
    "vector == 10"
   ]
  },
  {
   "cell_type": "code",
   "execution_count": 13,
   "metadata": {
    "collapsed": false
   },
   "outputs": [
    {
     "data": {
      "text/plain": [
       "array([[False, False, False],\n",
       "       [False,  True, False],\n",
       "       [False, False, False]], dtype=bool)"
      ]
     },
     "execution_count": 13,
     "metadata": {},
     "output_type": "execute_result"
    }
   ],
   "source": [
    "matrix = numpy.array([\n",
    "                    [5, 10, 15], \n",
    "                    [20, 25, 30],\n",
    "                    [35, 40, 45]\n",
    "                 ])\n",
    "matrix == 25"
   ]
  },
  {
   "cell_type": "code",
   "execution_count": 14,
   "metadata": {
    "collapsed": false
   },
   "outputs": [
    {
     "name": "stdout",
     "output_type": "stream",
     "text": [
      "[False  True False False]\n",
      "[10]\n"
     ]
    }
   ],
   "source": [
    "#Compares vector to the value 10, which generates a new Boolean vector [False, True, False, False]. It assigns this result to equal_to_ten\n",
    "vector = numpy.array([5, 10, 15, 20])\n",
    "equal_to_ten = (vector == 10)\n",
    "print (equal_to_ten)\n",
    "print(vector[equal_to_ten])"
   ]
  },
  {
   "cell_type": "code",
   "execution_count": 15,
   "metadata": {
    "collapsed": false
   },
   "outputs": [
    {
     "name": "stdout",
     "output_type": "stream",
     "text": [
      "[False  True False]\n",
      "[[20 25 30]]\n"
     ]
    }
   ],
   "source": [
    "matrix = numpy.array([\n",
    "                [5, 10, 15], \n",
    "                [20, 25, 30],\n",
    "                [35, 40, 45]\n",
    "             ])\n",
    "second_column_25 = (matrix[:,1] == 25)\n",
    "print (second_column_25)\n",
    "print(matrix[second_column_25, :])"
   ]
  },
  {
   "cell_type": "code",
   "execution_count": 16,
   "metadata": {
    "collapsed": false
   },
   "outputs": [
    {
     "name": "stdout",
     "output_type": "stream",
     "text": [
      "[False False False False]\n"
     ]
    }
   ],
   "source": [
    "#We can also perform comparisons with multiple conditions\n",
    "vector = numpy.array([5, 10, 15, 20])\n",
    "equal_to_ten_and_five = (vector == 10) & (vector == 5)\n",
    "print(equal_to_ten_and_five) "
   ]
  },
  {
   "cell_type": "code",
   "execution_count": 17,
   "metadata": {
    "collapsed": false
   },
   "outputs": [
    {
     "name": "stdout",
     "output_type": "stream",
     "text": [
      "[ True  True False False]\n"
     ]
    }
   ],
   "source": [
    "vector = numpy.array([5, 10, 15, 20])\n",
    "equal_to_ten_or_five = (vector == 10) | (vector == 5)\n",
    "print(equal_to_ten_or_five) "
   ]
  },
  {
   "cell_type": "code",
   "execution_count": 18,
   "metadata": {
    "collapsed": false
   },
   "outputs": [
    {
     "name": "stdout",
     "output_type": "stream",
     "text": [
      "[50 50 15 20]\n"
     ]
    }
   ],
   "source": [
    "vector = numpy.array([5, 10, 15, 20])\n",
    "equal_to_ten_or_five = (vector == 10) | (vector == 5)\n",
    "vector[equal_to_ten_or_five] = 50\n",
    "print(vector)"
   ]
  },
  {
   "cell_type": "code",
   "execution_count": 19,
   "metadata": {
    "collapsed": false
   },
   "outputs": [
    {
     "name": "stdout",
     "output_type": "stream",
     "text": [
      "[False  True False]\n",
      "[[ 5 10 15]\n",
      " [20 10 30]\n",
      " [35 40 45]]\n"
     ]
    }
   ],
   "source": [
    "matrix = numpy.array([\n",
    "            [5, 10, 15], \n",
    "            [20, 25, 30],\n",
    "            [35, 40, 45]\n",
    "         ])\n",
    "second_column_25 = matrix[:,1] == 25\n",
    "print (second_column_25)\n",
    "matrix[second_column_25, 1] = 10\n",
    "print(matrix) "
   ]
  },
  {
   "cell_type": "code",
   "execution_count": 20,
   "metadata": {
    "collapsed": false
   },
   "outputs": [
    {
     "name": "stdout",
     "output_type": "stream",
     "text": [
      "<U1\n",
      "['1' '2' '3']\n",
      "float64\n",
      "[ 1.  2.  3.]\n"
     ]
    }
   ],
   "source": [
    "#We can convert the data type of an array with the ndarray.astype() method.\n",
    "vector = numpy.array([\"1\", \"2\", \"3\"])\n",
    "print (vector.dtype)\n",
    "print (vector)\n",
    "vector = vector.astype(float)\n",
    "print (vector.dtype)\n",
    "print (vector)"
   ]
  },
  {
   "cell_type": "code",
   "execution_count": 21,
   "metadata": {
    "collapsed": false
   },
   "outputs": [
    {
     "data": {
      "text/plain": [
       "50"
      ]
     },
     "execution_count": 21,
     "metadata": {},
     "output_type": "execute_result"
    }
   ],
   "source": [
    "vector = numpy.array([5, 10, 15, 20])\n",
    "vector.sum()"
   ]
  },
  {
   "cell_type": "code",
   "execution_count": 22,
   "metadata": {
    "collapsed": false
   },
   "outputs": [
    {
     "data": {
      "text/plain": [
       "array([ 30,  75, 120])"
      ]
     },
     "execution_count": 22,
     "metadata": {},
     "output_type": "execute_result"
    }
   ],
   "source": [
    "# The axis dictates which dimension we perform the operation on\n",
    "#1 means that we want to perform the operation on each row, and 0 means on each column\n",
    "matrix = numpy.array([\n",
    "                [5, 10, 15], \n",
    "                [20, 25, 30],\n",
    "                [35, 40, 45]\n",
    "             ])\n",
    "matrix.sum(axis=1)"
   ]
  },
  {
   "cell_type": "code",
   "execution_count": 23,
   "metadata": {
    "collapsed": false
   },
   "outputs": [
    {
     "data": {
      "text/plain": [
       "array([60, 75, 90])"
      ]
     },
     "execution_count": 23,
     "metadata": {},
     "output_type": "execute_result"
    }
   ],
   "source": [
    "matrix = numpy.array([\n",
    "                [5, 10, 15], \n",
    "                [20, 25, 30],\n",
    "                [35, 40, 45]\n",
    "             ])\n",
    "matrix.sum(axis=0)"
   ]
  },
  {
   "cell_type": "code",
   "execution_count": 24,
   "metadata": {
    "collapsed": false
   },
   "outputs": [
    {
     "name": "stdout",
     "output_type": "stream",
     "text": [
      "1137.78\n",
      "1.14006012024\n"
     ]
    }
   ],
   "source": [
    "#replace nan value with 0\n",
    "world_alcohol = numpy.genfromtxt(\"world_alcohol.txt\", delimiter=\",\")\n",
    "#print world_alcohol\n",
    "is_value_empty = numpy.isnan(world_alcohol[:,4])\n",
    "#print is_value_empty\n",
    "world_alcohol[is_value_empty, 4] = '0'\n",
    "alcohol_consumption = world_alcohol[:,4]\n",
    "alcohol_consumption = alcohol_consumption.astype(float)\n",
    "total_alcohol = alcohol_consumption.sum()\n",
    "average_alcohol = alcohol_consumption.mean()\n",
    "print (total_alcohol)\n",
    "print (average_alcohol)"
   ]
  },
  {
   "cell_type": "code",
   "execution_count": 25,
   "metadata": {
    "collapsed": true
   },
   "outputs": [],
   "source": [
    "import numpy as np"
   ]
  },
  {
   "cell_type": "code",
   "execution_count": 26,
   "metadata": {
    "collapsed": false
   },
   "outputs": [
    {
     "data": {
      "text/plain": [
       "array([[ 0,  1,  2,  3,  4],\n",
       "       [ 5,  6,  7,  8,  9],\n",
       "       [10, 11, 12, 13, 14]])"
      ]
     },
     "execution_count": 26,
     "metadata": {},
     "output_type": "execute_result"
    }
   ],
   "source": [
    "\n",
    "a = np.arange(15).reshape(3, 5)\n",
    "a"
   ]
  },
  {
   "cell_type": "code",
   "execution_count": 27,
   "metadata": {
    "collapsed": false
   },
   "outputs": [
    {
     "data": {
      "text/plain": [
       "(3, 5)"
      ]
     },
     "execution_count": 27,
     "metadata": {},
     "output_type": "execute_result"
    }
   ],
   "source": [
    "a.shape"
   ]
  },
  {
   "cell_type": "code",
   "execution_count": 28,
   "metadata": {
    "collapsed": false
   },
   "outputs": [
    {
     "data": {
      "text/plain": [
       "2"
      ]
     },
     "execution_count": 28,
     "metadata": {},
     "output_type": "execute_result"
    }
   ],
   "source": [
    "#the number of axes (dimensions) of the array\n",
    "a.ndim"
   ]
  },
  {
   "cell_type": "code",
   "execution_count": 29,
   "metadata": {
    "collapsed": false
   },
   "outputs": [
    {
     "data": {
      "text/plain": [
       "'int32'"
      ]
     },
     "execution_count": 29,
     "metadata": {},
     "output_type": "execute_result"
    }
   ],
   "source": [
    "a.dtype.name"
   ]
  },
  {
   "cell_type": "code",
   "execution_count": 30,
   "metadata": {
    "collapsed": false
   },
   "outputs": [
    {
     "data": {
      "text/plain": [
       "15"
      ]
     },
     "execution_count": 30,
     "metadata": {},
     "output_type": "execute_result"
    }
   ],
   "source": [
    "#the total number of elements of the array\n",
    "a.size"
   ]
  },
  {
   "cell_type": "code",
   "execution_count": 31,
   "metadata": {
    "collapsed": false
   },
   "outputs": [
    {
     "data": {
      "text/plain": [
       "array([[ 0.,  0.,  0.,  0.],\n",
       "       [ 0.,  0.,  0.,  0.],\n",
       "       [ 0.,  0.,  0.,  0.]])"
      ]
     },
     "execution_count": 31,
     "metadata": {},
     "output_type": "execute_result"
    }
   ],
   "source": [
    "np.zeros ((3,4)) "
   ]
  },
  {
   "cell_type": "code",
   "execution_count": 32,
   "metadata": {
    "collapsed": false
   },
   "outputs": [
    {
     "data": {
      "text/plain": [
       "array([[[1, 1, 1, 1],\n",
       "        [1, 1, 1, 1],\n",
       "        [1, 1, 1, 1]],\n",
       "\n",
       "       [[1, 1, 1, 1],\n",
       "        [1, 1, 1, 1],\n",
       "        [1, 1, 1, 1]]])"
      ]
     },
     "execution_count": 32,
     "metadata": {},
     "output_type": "execute_result"
    }
   ],
   "source": [
    "np.ones( (2,3,4), dtype=np.int32 )"
   ]
  },
  {
   "cell_type": "code",
   "execution_count": 33,
   "metadata": {
    "collapsed": false
   },
   "outputs": [
    {
     "data": {
      "text/plain": [
       "array([10, 15, 20, 25])"
      ]
     },
     "execution_count": 33,
     "metadata": {},
     "output_type": "execute_result"
    }
   ],
   "source": [
    "#To create sequences of numbers\n",
    "np.arange( 10, 30, 5 )"
   ]
  },
  {
   "cell_type": "code",
   "execution_count": 34,
   "metadata": {
    "collapsed": false
   },
   "outputs": [
    {
     "data": {
      "text/plain": [
       "array([ 0. ,  0.3,  0.6,  0.9,  1.2,  1.5,  1.8])"
      ]
     },
     "execution_count": 34,
     "metadata": {},
     "output_type": "execute_result"
    }
   ],
   "source": [
    "np.arange( 0, 2, 0.3 )"
   ]
  },
  {
   "cell_type": "code",
   "execution_count": 35,
   "metadata": {
    "collapsed": false
   },
   "outputs": [
    {
     "data": {
      "text/plain": [
       "array([[ 0,  1,  2],\n",
       "       [ 3,  4,  5],\n",
       "       [ 6,  7,  8],\n",
       "       [ 9, 10, 11]])"
      ]
     },
     "execution_count": 35,
     "metadata": {},
     "output_type": "execute_result"
    }
   ],
   "source": [
    "np.arange(12).reshape(4,3)"
   ]
  },
  {
   "cell_type": "code",
   "execution_count": 36,
   "metadata": {
    "collapsed": false
   },
   "outputs": [
    {
     "data": {
      "text/plain": [
       "array([[ 0.0676035 ,  0.95493504,  0.59916183],\n",
       "       [ 0.02919477,  0.95589551,  0.74567506]])"
      ]
     },
     "execution_count": 36,
     "metadata": {},
     "output_type": "execute_result"
    }
   ],
   "source": [
    "np.random.random((2,3))"
   ]
  },
  {
   "cell_type": "code",
   "execution_count": 37,
   "metadata": {
    "collapsed": false
   },
   "outputs": [
    {
     "data": {
      "text/plain": [
       "array([ 0.        ,  0.06346652,  0.12693304,  0.19039955,  0.25386607,\n",
       "        0.31733259,  0.38079911,  0.44426563,  0.50773215,  0.57119866,\n",
       "        0.63466518,  0.6981317 ,  0.76159822,  0.82506474,  0.88853126,\n",
       "        0.95199777,  1.01546429,  1.07893081,  1.14239733,  1.20586385,\n",
       "        1.26933037,  1.33279688,  1.3962634 ,  1.45972992,  1.52319644,\n",
       "        1.58666296,  1.65012947,  1.71359599,  1.77706251,  1.84052903,\n",
       "        1.90399555,  1.96746207,  2.03092858,  2.0943951 ,  2.15786162,\n",
       "        2.22132814,  2.28479466,  2.34826118,  2.41172769,  2.47519421,\n",
       "        2.53866073,  2.60212725,  2.66559377,  2.72906028,  2.7925268 ,\n",
       "        2.85599332,  2.91945984,  2.98292636,  3.04639288,  3.10985939,\n",
       "        3.17332591,  3.23679243,  3.30025895,  3.36372547,  3.42719199,\n",
       "        3.4906585 ,  3.55412502,  3.61759154,  3.68105806,  3.74452458,\n",
       "        3.8079911 ,  3.87145761,  3.93492413,  3.99839065,  4.06185717,\n",
       "        4.12532369,  4.1887902 ,  4.25225672,  4.31572324,  4.37918976,\n",
       "        4.44265628,  4.5061228 ,  4.56958931,  4.63305583,  4.69652235,\n",
       "        4.75998887,  4.82345539,  4.88692191,  4.95038842,  5.01385494,\n",
       "        5.07732146,  5.14078798,  5.2042545 ,  5.26772102,  5.33118753,\n",
       "        5.39465405,  5.45812057,  5.52158709,  5.58505361,  5.64852012,\n",
       "        5.71198664,  5.77545316,  5.83891968,  5.9023862 ,  5.96585272,\n",
       "        6.02931923,  6.09278575,  6.15625227,  6.21971879,  6.28318531])"
      ]
     },
     "execution_count": 37,
     "metadata": {},
     "output_type": "execute_result"
    }
   ],
   "source": [
    "from numpy import pi\n",
    "np.linspace( 0, 2*pi, 100 )"
   ]
  },
  {
   "cell_type": "code",
   "execution_count": 38,
   "metadata": {
    "collapsed": false
   },
   "outputs": [
    {
     "data": {
      "text/plain": [
       "array([  0.00000000e+00,   6.34239197e-02,   1.26592454e-01,\n",
       "         1.89251244e-01,   2.51147987e-01,   3.12033446e-01,\n",
       "         3.71662456e-01,   4.29794912e-01,   4.86196736e-01,\n",
       "         5.40640817e-01,   5.92907929e-01,   6.42787610e-01,\n",
       "         6.90079011e-01,   7.34591709e-01,   7.76146464e-01,\n",
       "         8.14575952e-01,   8.49725430e-01,   8.81453363e-01,\n",
       "         9.09631995e-01,   9.34147860e-01,   9.54902241e-01,\n",
       "         9.71811568e-01,   9.84807753e-01,   9.93838464e-01,\n",
       "         9.98867339e-01,   9.99874128e-01,   9.96854776e-01,\n",
       "         9.89821442e-01,   9.78802446e-01,   9.63842159e-01,\n",
       "         9.45000819e-01,   9.22354294e-01,   8.95993774e-01,\n",
       "         8.66025404e-01,   8.32569855e-01,   7.95761841e-01,\n",
       "         7.55749574e-01,   7.12694171e-01,   6.66769001e-01,\n",
       "         6.18158986e-01,   5.67059864e-01,   5.13677392e-01,\n",
       "         4.58226522e-01,   4.00930535e-01,   3.42020143e-01,\n",
       "         2.81732557e-01,   2.20310533e-01,   1.58001396e-01,\n",
       "         9.50560433e-02,   3.17279335e-02,  -3.17279335e-02,\n",
       "        -9.50560433e-02,  -1.58001396e-01,  -2.20310533e-01,\n",
       "        -2.81732557e-01,  -3.42020143e-01,  -4.00930535e-01,\n",
       "        -4.58226522e-01,  -5.13677392e-01,  -5.67059864e-01,\n",
       "        -6.18158986e-01,  -6.66769001e-01,  -7.12694171e-01,\n",
       "        -7.55749574e-01,  -7.95761841e-01,  -8.32569855e-01,\n",
       "        -8.66025404e-01,  -8.95993774e-01,  -9.22354294e-01,\n",
       "        -9.45000819e-01,  -9.63842159e-01,  -9.78802446e-01,\n",
       "        -9.89821442e-01,  -9.96854776e-01,  -9.99874128e-01,\n",
       "        -9.98867339e-01,  -9.93838464e-01,  -9.84807753e-01,\n",
       "        -9.71811568e-01,  -9.54902241e-01,  -9.34147860e-01,\n",
       "        -9.09631995e-01,  -8.81453363e-01,  -8.49725430e-01,\n",
       "        -8.14575952e-01,  -7.76146464e-01,  -7.34591709e-01,\n",
       "        -6.90079011e-01,  -6.42787610e-01,  -5.92907929e-01,\n",
       "        -5.40640817e-01,  -4.86196736e-01,  -4.29794912e-01,\n",
       "        -3.71662456e-01,  -3.12033446e-01,  -2.51147987e-01,\n",
       "        -1.89251244e-01,  -1.26592454e-01,  -6.34239197e-02,\n",
       "        -2.44929360e-16])"
      ]
     },
     "execution_count": 38,
     "metadata": {},
     "output_type": "execute_result"
    }
   ],
   "source": [
    "np.sin(np.linspace( 0, 2*pi, 100 ))"
   ]
  },
  {
   "cell_type": "code",
   "execution_count": 39,
   "metadata": {
    "collapsed": false
   },
   "outputs": [
    {
     "name": "stdout",
     "output_type": "stream",
     "text": [
      "[ True  True False False]\n"
     ]
    }
   ],
   "source": [
    "#the product operator * operates elementwise in NumPy arrays\n",
    "a = np.array( [20,30,40,50] )\n",
    "b = np.arange( 4 )\n",
    "#print a \n",
    "#print b\n",
    "#b\n",
    "c = a-b\n",
    "#print c\n",
    "b**2\n",
    "#print b**2\n",
    "print (a<35)"
   ]
  },
  {
   "cell_type": "code",
   "execution_count": 40,
   "metadata": {
    "collapsed": false
   },
   "outputs": [
    {
     "name": "stdout",
     "output_type": "stream",
     "text": [
      "[[1 1]\n",
      " [0 1]]\n",
      "[[2 0]\n",
      " [3 4]]\n",
      "[[2 0]\n",
      " [0 4]]\n",
      "[[5 4]\n",
      " [3 4]]\n",
      "[[5 4]\n",
      " [3 4]]\n"
     ]
    }
   ],
   "source": [
    "#The matrix product can be performed using the dot function or method\n",
    "A = np.array( [[1,1],\n",
    "               [0,1]] )\n",
    "B = np.array( [[2,0],\n",
    "               [3,4]] )\n",
    "print (A)\n",
    "print (B)\n",
    "print (A*B)\n",
    "print (A.dot(B))\n",
    "print (np.dot(A, B) )"
   ]
  },
  {
   "cell_type": "code",
   "execution_count": null,
   "metadata": {
    "collapsed": true
   },
   "outputs": [],
   "source": []
  },
  {
   "cell_type": "code",
   "execution_count": 41,
   "metadata": {
    "collapsed": false
   },
   "outputs": [
    {
     "name": "stdout",
     "output_type": "stream",
     "text": [
      "[0 1 2]\n",
      "[ 0.          1.          1.41421356]\n"
     ]
    }
   ],
   "source": [
    "import numpy as np\n",
    "B = np.arange(3)\n",
    "print(B) \n",
    "#print np.exp(B)\n",
    "print(np.sqrt(B)) "
   ]
  },
  {
   "cell_type": "code",
   "execution_count": 42,
   "metadata": {
    "collapsed": false
   },
   "outputs": [
    {
     "name": "stdout",
     "output_type": "stream",
     "text": [
      "None\n",
      "[[ 2.  8.  0.  1.  3.  9.]\n",
      " [ 7.  4.  1.  3.  2.  7.]]\n"
     ]
    }
   ],
   "source": [
    "#Return the floor of the input\n",
    "a = np.floor(10*np.random.random((3,4)))\n",
    "#print a\n",
    "\n",
    "#a.shape\n",
    "## flatten the array\n",
    "#print a.ravel()\n",
    "#a.shape = (6, 2)\n",
    "#print a \n",
    "#print a.T\n",
    "print (a.resize((2,6)))\n",
    "print (a)\n",
    "\n",
    "#If a dimension is given as -1 in a reshaping operation, the other dimensions are automatically calculated:\n",
    "#a.reshape(3,-1)"
   ]
  },
  {
   "cell_type": "code",
   "execution_count": 43,
   "metadata": {
    "collapsed": false
   },
   "outputs": [
    {
     "name": "stdout",
     "output_type": "stream",
     "text": [
      "[[ 2.  9.]\n",
      " [ 5.  3.]]\n",
      "[[ 5.  4.]\n",
      " [ 9.  3.]]\n",
      "---\n",
      "[[ 2.  9.  5.  4.]\n",
      " [ 5.  3.  9.  3.]]\n"
     ]
    }
   ],
   "source": [
    "a = np.floor(10*np.random.random((2,2)))\n",
    "b = np.floor(10*np.random.random((2,2)))\n",
    "print (a)\n",
    "\n",
    "print (b)\n",
    "print('---') \n",
    "print (np.hstack((a,b)))\n",
    "#np.hstack((a,b))"
   ]
  },
  {
   "cell_type": "code",
   "execution_count": 44,
   "metadata": {
    "collapsed": false
   },
   "outputs": [
    {
     "name": "stdout",
     "output_type": "stream",
     "text": [
      "[[ 2.  8.]\n",
      " [ 9.  1.]\n",
      " [ 3.  2.]\n",
      " [ 0.  6.]\n",
      " [ 1.  4.]\n",
      " [ 5.  6.]\n",
      " [ 0.  1.]\n",
      " [ 9.  9.]\n",
      " [ 8.  2.]\n",
      " [ 2.  4.]\n",
      " [ 6.  9.]\n",
      " [ 6.  1.]]\n"
     ]
    },
    {
     "data": {
      "text/plain": [
       "[array([[ 2.,  8.],\n",
       "        [ 9.,  1.],\n",
       "        [ 3.,  2.],\n",
       "        [ 0.,  6.]]), array([[ 1.,  4.],\n",
       "        [ 5.,  6.],\n",
       "        [ 0.,  1.],\n",
       "        [ 9.,  9.]]), array([[ 8.,  2.],\n",
       "        [ 2.,  4.],\n",
       "        [ 6.,  9.],\n",
       "        [ 6.,  1.]])]"
      ]
     },
     "execution_count": 44,
     "metadata": {},
     "output_type": "execute_result"
    }
   ],
   "source": [
    "a = np.floor(10*np.random.random((2,12)))\n",
    "#print a\n",
    "#print np.hsplit(a,3)\n",
    "#print np.hsplit(a,(3,4))   # Split a after the third and the fourth column\n",
    "a = np.floor(10*np.random.random((12,2)))\n",
    "print (a)\n",
    "np.vsplit(a,3)"
   ]
  },
  {
   "cell_type": "code",
   "execution_count": 45,
   "metadata": {
    "collapsed": false
   },
   "outputs": [
    {
     "name": "stdout",
     "output_type": "stream",
     "text": [
      "(3, 4)\n"
     ]
    }
   ],
   "source": [
    "#Simple assignments make no copy of array objects or of their data.\n",
    "a = np.arange(12)\n",
    "b = a\n",
    "# a and b are two names for the same ndarray object\n",
    "b is a\n",
    "b.shape = 3,4\n",
    "print (a.shape)\n",
    "#print id(a)\n",
    "#print id(b)"
   ]
  },
  {
   "cell_type": "code",
   "execution_count": 46,
   "metadata": {
    "collapsed": false
   },
   "outputs": [
    {
     "data": {
      "text/plain": [
       "array([[   0,    1,    2,    3],\n",
       "       [1234,    5,    6,    7],\n",
       "       [   8,    9,   10,   11]])"
      ]
     },
     "execution_count": 46,
     "metadata": {},
     "output_type": "execute_result"
    }
   ],
   "source": [
    "#The view method creates a new array object that looks at the same data.\n",
    "c = a.view()\n",
    "c is a\n",
    "c.shape = 2,6\n",
    "#print a.shape\n",
    "c[0,4] = 1234\n",
    "a"
   ]
  },
  {
   "cell_type": "code",
   "execution_count": 47,
   "metadata": {
    "collapsed": false
   },
   "outputs": [
    {
     "name": "stdout",
     "output_type": "stream",
     "text": [
      "[[9999    1    2    3]\n",
      " [1234    5    6    7]\n",
      " [   8    9   10   11]]\n",
      "[[   0    1    2    3]\n",
      " [1234    5    6    7]\n",
      " [   8    9   10   11]]\n"
     ]
    }
   ],
   "source": [
    "#The copy method makes a complete copy of the array and its data.\n",
    "d = a.copy() \n",
    "d is a\n",
    "d[0,0] = 9999\n",
    "print (d) \n",
    "print (a)"
   ]
  },
  {
   "cell_type": "code",
   "execution_count": null,
   "metadata": {
    "collapsed": true
   },
   "outputs": [],
   "source": []
  },
  {
   "cell_type": "code",
   "execution_count": 48,
   "metadata": {
    "collapsed": false
   },
   "outputs": [
    {
     "name": "stdout",
     "output_type": "stream",
     "text": [
      "[[ 0.          0.84147098  0.90929743  0.14112001]\n",
      " [-0.7568025  -0.95892427 -0.2794155   0.6569866 ]\n",
      " [ 0.98935825  0.41211849 -0.54402111 -0.99999021]\n",
      " [-0.53657292  0.42016704  0.99060736  0.65028784]\n",
      " [-0.28790332 -0.96139749 -0.75098725  0.14987721]]\n",
      "[2 0 3 1]\n",
      "[ 0.98935825  0.84147098  0.99060736  0.6569866 ]\n"
     ]
    },
    {
     "data": {
      "text/plain": [
       "True"
      ]
     },
     "execution_count": 48,
     "metadata": {},
     "output_type": "execute_result"
    }
   ],
   "source": [
    "import numpy as np\n",
    "data = np.sin(np.arange(20)).reshape(5,4)\n",
    "print (data)\n",
    "ind = data.argmax(axis=0)\n",
    "print (ind)\n",
    "data_max = data[ind, range(data.shape[1])]\n",
    "print(data_max)\n",
    "all(data_max == data.max(axis=0))"
   ]
  },
  {
   "cell_type": "code",
   "execution_count": 49,
   "metadata": {
    "collapsed": false
   },
   "outputs": [
    {
     "name": "stdout",
     "output_type": "stream",
     "text": [
      "[[ 0 10 20 30  0 10 20 30  0 10 20 30  0 10 20 30  0 10 20 30]\n",
      " [ 0 10 20 30  0 10 20 30  0 10 20 30  0 10 20 30  0 10 20 30]\n",
      " [ 0 10 20 30  0 10 20 30  0 10 20 30  0 10 20 30  0 10 20 30]]\n"
     ]
    }
   ],
   "source": [
    "a = np.arange(0, 40, 10)\n",
    "b = np.tile(a, (3, 5)) \n",
    "print (b)"
   ]
  },
  {
   "cell_type": "code",
   "execution_count": 50,
   "metadata": {
    "collapsed": false
   },
   "outputs": [
    {
     "name": "stdout",
     "output_type": "stream",
     "text": [
      "[[4 3 5]\n",
      " [1 2 1]]\n",
      "[[3 4 5]\n",
      " [1 1 2]]\n",
      "[[3 4 5]\n",
      " [1 1 2]]\n",
      "[2 3 1 0]\n",
      "[1 2 3 4]\n"
     ]
    }
   ],
   "source": [
    "a = np.array([[4, 3, 5], [1, 2, 1]])\n",
    "print (a)\n",
    "b = np.sort(a, axis=1)\n",
    "print (b)\n",
    "b\n",
    "a.sort(axis=1)\n",
    "print (a)\n",
    "a = np.array([4, 3, 1, 2])\n",
    "j = np.argsort(a)\n",
    "print (j)\n",
    "print(a[j]) "
   ]
  },
  {
   "cell_type": "code",
   "execution_count": null,
   "metadata": {
    "collapsed": true
   },
   "outputs": [],
   "source": []
  },
  {
   "cell_type": "code",
   "execution_count": 51,
   "metadata": {
    "collapsed": false
   },
   "outputs": [
    {
     "name": "stdout",
     "output_type": "stream",
     "text": [
      "[[0 1 0 1 0 1 0 1]\n",
      " [1 0 1 0 1 0 1 0]\n",
      " [0 1 0 1 0 1 0 1]\n",
      " [1 0 1 0 1 0 1 0]\n",
      " [0 1 0 1 0 1 0 1]\n",
      " [1 0 1 0 1 0 1 0]\n",
      " [0 1 0 1 0 1 0 1]\n",
      " [1 0 1 0 1 0 1 0]]\n"
     ]
    }
   ],
   "source": [
    "import numpy as np\n",
    "#1:8*8棋盘矩阵，其中1、3、5、7行&&0、2、4、6列的元素置为1   1 ,3，5，7列&&0,2,4,6行也是1\n",
    "z = np.zeros((8,8),dtype=int)\n",
    "z[1::2,::2] = 1\n",
    "z[::2,1::2] = 1\n",
    "print (z)"
   ]
  },
  {
   "cell_type": "code",
   "execution_count": 52,
   "metadata": {
    "collapsed": true
   },
   "outputs": [],
   "source": [
    "#2：min()、max()函数"
   ]
  },
  {
   "cell_type": "code",
   "execution_count": 53,
   "metadata": {
    "collapsed": true
   },
   "outputs": [],
   "source": [
    "z = np.random.random((10,10))\n",
    "zmin,zmax = z.min(),z.max()"
   ]
  },
  {
   "cell_type": "code",
   "execution_count": 54,
   "metadata": {
    "collapsed": false
   },
   "outputs": [
    {
     "name": "stdout",
     "output_type": "stream",
     "text": [
      "[[ 2.47659898  0.22816549  3.87927306  1.88556067  4.68572514]\n",
      " [ 5.63682073  1.43651282  3.44955402  7.87808309  6.44127844]\n",
      " [ 7.1311386   4.4476395   7.01197691  2.41733361  7.55812153]\n",
      " [ 0.20384964  6.44726354  7.70855481  5.74265816  5.85204422]\n",
      " [ 0.4881117   1.06615498  5.81050566  3.52414911  4.78356764]]\n",
      "[[ 0.29615327  0.00316851  0.47893036  0.21913733  0.58401605]\n",
      " [ 0.70794968  0.16062362  0.42293532  1.          0.81277548]\n",
      " [ 0.90266852  0.55299202  0.88714102  0.28843063  0.95830703]\n",
      " [ 0.          0.81355538  0.97790942  0.72174095  0.73599463]\n",
      " [ 0.0370411   0.11236371  0.7305819   0.43265552  0.59676553]]\n"
     ]
    }
   ],
   "source": [
    "#归一化，将矩阵规格化到0～1，即最小的变成0，最大的变成1，最小与最大之间的等比缩放\n",
    "z = 10*np.random.random((5,5))\n",
    "print (z)\n",
    "zmin,zmax = z.min(),z.max()\n",
    "z = (z-zmin)/(zmax-zmin)\n",
    "print (z)"
   ]
  },
  {
   "cell_type": "code",
   "execution_count": 55,
   "metadata": {
    "collapsed": false
   },
   "outputs": [
    {
     "name": "stdout",
     "output_type": "stream",
     "text": [
      "[0 1 2 3 4]\n",
      "[[ 0.  1.  2.  3.  4.]\n",
      " [ 0.  1.  2.  3.  4.]\n",
      " [ 0.  1.  2.  3.  4.]\n",
      " [ 0.  1.  2.  3.  4.]\n",
      " [ 0.  1.  2.  3.  4.]]\n"
     ]
    }
   ],
   "source": [
    "#矩阵相加\n",
    "z = np.zeros((5,5))\n",
    "z += np.arange(5)\n",
    "print(np.arange(5)) \n",
    "print (z)\n",
    "\n"
   ]
  },
  {
   "cell_type": "code",
   "execution_count": 56,
   "metadata": {
    "collapsed": false
   },
   "outputs": [
    {
     "name": "stdout",
     "output_type": "stream",
     "text": [
      "(array([  0.,   1.,   2.,   3.,   4.,   5.,   6.,   7.,   8.,   9.,  10.]), 1.0)\n"
     ]
    }
   ],
   "source": [
    "#生成0~10之间均匀分布的11个数，包括0和10\n",
    "\n",
    "z = np.linspace(0,10,11,endpoint=True,retstep=True)\n",
    "print (z)\n"
   ]
  },
  {
   "cell_type": "code",
   "execution_count": 57,
   "metadata": {
    "collapsed": false
   },
   "outputs": [
    {
     "name": "stdout",
     "output_type": "stream",
     "text": [
      "Help on function linspace in module numpy.core.function_base:\n",
      "\n",
      "linspace(start, stop, num=50, endpoint=True, retstep=False, dtype=None)\n",
      "    Return evenly spaced numbers over a specified interval.\n",
      "    \n",
      "    Returns `num` evenly spaced samples, calculated over the\n",
      "    interval [`start`, `stop`].\n",
      "    \n",
      "    The endpoint of the interval can optionally be excluded.\n",
      "    \n",
      "    Parameters\n",
      "    ----------\n",
      "    start : scalar\n",
      "        The starting value of the sequence.\n",
      "    stop : scalar\n",
      "        The end value of the sequence, unless `endpoint` is set to False.\n",
      "        In that case, the sequence consists of all but the last of ``num + 1``\n",
      "        evenly spaced samples, so that `stop` is excluded.  Note that the step\n",
      "        size changes when `endpoint` is False.\n",
      "    num : int, optional\n",
      "        Number of samples to generate. Default is 50. Must be non-negative.\n",
      "    endpoint : bool, optional\n",
      "        If True, `stop` is the last sample. Otherwise, it is not included.\n",
      "        Default is True.\n",
      "    retstep : bool, optional\n",
      "        If True, return (`samples`, `step`), where `step` is the spacing\n",
      "        between samples.\n",
      "    dtype : dtype, optional\n",
      "        The type of the output array.  If `dtype` is not given, infer the data\n",
      "        type from the other input arguments.\n",
      "    \n",
      "        .. versionadded:: 1.9.0\n",
      "    \n",
      "    Returns\n",
      "    -------\n",
      "    samples : ndarray\n",
      "        There are `num` equally spaced samples in the closed interval\n",
      "        ``[start, stop]`` or the half-open interval ``[start, stop)``\n",
      "        (depending on whether `endpoint` is True or False).\n",
      "    step : float\n",
      "        Only returned if `retstep` is True\n",
      "    \n",
      "        Size of spacing between samples.\n",
      "    \n",
      "    \n",
      "    See Also\n",
      "    --------\n",
      "    arange : Similar to `linspace`, but uses a step size (instead of the\n",
      "             number of samples).\n",
      "    logspace : Samples uniformly distributed in log space.\n",
      "    \n",
      "    Examples\n",
      "    --------\n",
      "    >>> np.linspace(2.0, 3.0, num=5)\n",
      "        array([ 2.  ,  2.25,  2.5 ,  2.75,  3.  ])\n",
      "    >>> np.linspace(2.0, 3.0, num=5, endpoint=False)\n",
      "        array([ 2. ,  2.2,  2.4,  2.6,  2.8])\n",
      "    >>> np.linspace(2.0, 3.0, num=5, retstep=True)\n",
      "        (array([ 2.  ,  2.25,  2.5 ,  2.75,  3.  ]), 0.25)\n",
      "    \n",
      "    Graphical illustration:\n",
      "    \n",
      "    >>> import matplotlib.pyplot as plt\n",
      "    >>> N = 8\n",
      "    >>> y = np.zeros(N)\n",
      "    >>> x1 = np.linspace(0, 10, N, endpoint=True)\n",
      "    >>> x2 = np.linspace(0, 10, N, endpoint=False)\n",
      "    >>> plt.plot(x1, y, 'o')\n",
      "    [<matplotlib.lines.Line2D object at 0x...>]\n",
      "    >>> plt.plot(x2, y + 0.5, 'o')\n",
      "    [<matplotlib.lines.Line2D object at 0x...>]\n",
      "    >>> plt.ylim([-0.5, 1])\n",
      "    (-0.5, 1)\n",
      "    >>> plt.show()\n",
      "\n"
     ]
    }
   ],
   "source": [
    "help(np.linspace)"
   ]
  },
  {
   "cell_type": "code",
   "execution_count": null,
   "metadata": {
    "collapsed": true
   },
   "outputs": [],
   "source": []
  },
  {
   "cell_type": "code",
   "execution_count": 58,
   "metadata": {
    "collapsed": false
   },
   "outputs": [
    {
     "name": "stdout",
     "output_type": "stream",
     "text": [
      "[[ 0  1  2  3  4]\n",
      " [ 5  6  7  8  9]\n",
      " [10 11 12 13 14]\n",
      " [15 16 17 18 19]\n",
      " [20 21 22 23 24]]\n",
      "[[ 5  6  7  8  9]\n",
      " [ 0  1  2  3  4]\n",
      " [10 11 12 13 14]\n",
      " [15 16 17 18 19]\n",
      " [20 21 22 23 24]]\n"
     ]
    }
   ],
   "source": [
    "import numpy as np\n",
    "#交换矩阵的其中两行\n",
    "a = np.arange(25).reshape(5,5)\n",
    "print (a)\n",
    "a[[0,1]] = a[[1,0]]\n",
    "print (a)"
   ]
  },
  {
   "cell_type": "code",
   "execution_count": 59,
   "metadata": {
    "collapsed": false
   },
   "outputs": [
    {
     "name": "stdout",
     "output_type": "stream",
     "text": [
      "5\n"
     ]
    }
   ],
   "source": [
    "#找出数组中与给定值最接近的数\n",
    "z = np.array([[0,1,2,3],[4,5,6,7]])\n",
    "a = 5.1\n",
    "print (np.abs(z-a).argmin())"
   ]
  },
  {
   "cell_type": "code",
   "execution_count": 60,
   "metadata": {
    "collapsed": false
   },
   "outputs": [
    {
     "name": "stdout",
     "output_type": "stream",
     "text": [
      "[[1 2 2 0 2 1 2 2 0 0]\n",
      " [2 1 2 2 2 1 0 0 0 1]]\n",
      "[ True  True  True  True  True  True  True  True False  True]\n"
     ]
    }
   ],
   "source": [
    "#判断二维矩阵中有没有一整列数为0？\n",
    "z = np.random.randint(0,3,(2,10))\n",
    "print (z)\n",
    "print (z.any(axis=0))"
   ]
  },
  {
   "cell_type": "code",
   "execution_count": 61,
   "metadata": {
    "collapsed": false
   },
   "outputs": [
    {
     "name": "stdout",
     "output_type": "stream",
     "text": [
      "Help on built-in function randint:\n",
      "\n",
      "randint(...) method of mtrand.RandomState instance\n",
      "    randint(low, high=None, size=None, dtype='l')\n",
      "    \n",
      "    Return random integers from `low` (inclusive) to `high` (exclusive).\n",
      "    \n",
      "    Return random integers from the \"discrete uniform\" distribution of\n",
      "    the specified dtype in the \"half-open\" interval [`low`, `high`). If\n",
      "    `high` is None (the default), then results are from [0, `low`).\n",
      "    \n",
      "    Parameters\n",
      "    ----------\n",
      "    low : int\n",
      "        Lowest (signed) integer to be drawn from the distribution (unless\n",
      "        ``high=None``, in which case this parameter is the *highest* such\n",
      "        integer).\n",
      "    high : int, optional\n",
      "        If provided, one above the largest (signed) integer to be drawn\n",
      "        from the distribution (see above for behavior if ``high=None``).\n",
      "    size : int or tuple of ints, optional\n",
      "        Output shape.  If the given shape is, e.g., ``(m, n, k)``, then\n",
      "        ``m * n * k`` samples are drawn.  Default is None, in which case a\n",
      "        single value is returned.\n",
      "    dtype : dtype, optional\n",
      "        Desired dtype of the result. All dtypes are determined by their\n",
      "        name, i.e., 'int64', 'int', etc, so byteorder is not available\n",
      "        and a specific precision may have different C types depending\n",
      "        on the platform. The default value is 'np.int'.\n",
      "    \n",
      "        .. versionadded:: 1.11.0\n",
      "    \n",
      "    Returns\n",
      "    -------\n",
      "    out : int or ndarray of ints\n",
      "        `size`-shaped array of random integers from the appropriate\n",
      "        distribution, or a single such random int if `size` not provided.\n",
      "    \n",
      "    See Also\n",
      "    --------\n",
      "    random.random_integers : similar to `randint`, only for the closed\n",
      "        interval [`low`, `high`], and 1 is the lowest value if `high` is\n",
      "        omitted. In particular, this other one is the one to use to generate\n",
      "        uniformly distributed discrete non-integers.\n",
      "    \n",
      "    Examples\n",
      "    --------\n",
      "    >>> np.random.randint(2, size=10)\n",
      "    array([1, 0, 0, 0, 1, 1, 0, 0, 1, 0])\n",
      "    >>> np.random.randint(1, size=10)\n",
      "    array([0, 0, 0, 0, 0, 0, 0, 0, 0, 0])\n",
      "    \n",
      "    Generate a 2 x 4 array of ints between 0 and 4, inclusive:\n",
      "    \n",
      "    >>> np.random.randint(5, size=(2, 4))\n",
      "    array([[4, 0, 2, 1],\n",
      "           [3, 2, 2, 0]])\n",
      "\n"
     ]
    }
   ],
   "source": [
    "#生成二维的高斯矩阵\n",
    "help(np.random.randint)"
   ]
  },
  {
   "cell_type": "code",
   "execution_count": 62,
   "metadata": {
    "collapsed": false
   },
   "outputs": [
    {
     "name": "stdout",
     "output_type": "stream",
     "text": [
      "[[-1.         -0.77777778 -0.55555556 -0.33333333 -0.11111111  0.11111111\n",
      "   0.33333333  0.55555556  0.77777778  1.        ]\n",
      " [-1.         -0.77777778 -0.55555556 -0.33333333 -0.11111111  0.11111111\n",
      "   0.33333333  0.55555556  0.77777778  1.        ]\n",
      " [-1.         -0.77777778 -0.55555556 -0.33333333 -0.11111111  0.11111111\n",
      "   0.33333333  0.55555556  0.77777778  1.        ]\n",
      " [-1.         -0.77777778 -0.55555556 -0.33333333 -0.11111111  0.11111111\n",
      "   0.33333333  0.55555556  0.77777778  1.        ]\n",
      " [-1.         -0.77777778 -0.55555556 -0.33333333 -0.11111111  0.11111111\n",
      "   0.33333333  0.55555556  0.77777778  1.        ]\n",
      " [-1.         -0.77777778 -0.55555556 -0.33333333 -0.11111111  0.11111111\n",
      "   0.33333333  0.55555556  0.77777778  1.        ]\n",
      " [-1.         -0.77777778 -0.55555556 -0.33333333 -0.11111111  0.11111111\n",
      "   0.33333333  0.55555556  0.77777778  1.        ]\n",
      " [-1.         -0.77777778 -0.55555556 -0.33333333 -0.11111111  0.11111111\n",
      "   0.33333333  0.55555556  0.77777778  1.        ]\n",
      " [-1.         -0.77777778 -0.55555556 -0.33333333 -0.11111111  0.11111111\n",
      "   0.33333333  0.55555556  0.77777778  1.        ]\n",
      " [-1.         -0.77777778 -0.55555556 -0.33333333 -0.11111111  0.11111111\n",
      "   0.33333333  0.55555556  0.77777778  1.        ]]\n",
      "[[-1.         -1.         -1.         -1.         -1.         -1.         -1.\n",
      "  -1.         -1.         -1.        ]\n",
      " [-0.77777778 -0.77777778 -0.77777778 -0.77777778 -0.77777778 -0.77777778\n",
      "  -0.77777778 -0.77777778 -0.77777778 -0.77777778]\n",
      " [-0.55555556 -0.55555556 -0.55555556 -0.55555556 -0.55555556 -0.55555556\n",
      "  -0.55555556 -0.55555556 -0.55555556 -0.55555556]\n",
      " [-0.33333333 -0.33333333 -0.33333333 -0.33333333 -0.33333333 -0.33333333\n",
      "  -0.33333333 -0.33333333 -0.33333333 -0.33333333]\n",
      " [-0.11111111 -0.11111111 -0.11111111 -0.11111111 -0.11111111 -0.11111111\n",
      "  -0.11111111 -0.11111111 -0.11111111 -0.11111111]\n",
      " [ 0.11111111  0.11111111  0.11111111  0.11111111  0.11111111  0.11111111\n",
      "   0.11111111  0.11111111  0.11111111  0.11111111]\n",
      " [ 0.33333333  0.33333333  0.33333333  0.33333333  0.33333333  0.33333333\n",
      "   0.33333333  0.33333333  0.33333333  0.33333333]\n",
      " [ 0.55555556  0.55555556  0.55555556  0.55555556  0.55555556  0.55555556\n",
      "   0.55555556  0.55555556  0.55555556  0.55555556]\n",
      " [ 0.77777778  0.77777778  0.77777778  0.77777778  0.77777778  0.77777778\n",
      "   0.77777778  0.77777778  0.77777778  0.77777778]\n",
      " [ 1.          1.          1.          1.          1.          1.          1.\n",
      "   1.          1.          1.        ]]\n",
      "[[ 1.41421356  1.26686158  1.1439589   1.05409255  1.0061539   1.0061539\n",
      "   1.05409255  1.1439589   1.26686158  1.41421356]\n",
      " [ 1.26686158  1.09994388  0.95581392  0.84619701  0.7856742   0.7856742\n",
      "   0.84619701  0.95581392  1.09994388  1.26686158]\n",
      " [ 1.1439589   0.95581392  0.7856742   0.64788354  0.56655772  0.56655772\n",
      "   0.64788354  0.7856742   0.95581392  1.1439589 ]\n",
      " [ 1.05409255  0.84619701  0.64788354  0.47140452  0.35136418  0.35136418\n",
      "   0.47140452  0.64788354  0.84619701  1.05409255]\n",
      " [ 1.0061539   0.7856742   0.56655772  0.35136418  0.15713484  0.15713484\n",
      "   0.35136418  0.56655772  0.7856742   1.0061539 ]\n",
      " [ 1.0061539   0.7856742   0.56655772  0.35136418  0.15713484  0.15713484\n",
      "   0.35136418  0.56655772  0.7856742   1.0061539 ]\n",
      " [ 1.05409255  0.84619701  0.64788354  0.47140452  0.35136418  0.35136418\n",
      "   0.47140452  0.64788354  0.84619701  1.05409255]\n",
      " [ 1.1439589   0.95581392  0.7856742   0.64788354  0.56655772  0.56655772\n",
      "   0.64788354  0.7856742   0.95581392  1.1439589 ]\n",
      " [ 1.26686158  1.09994388  0.95581392  0.84619701  0.7856742   0.7856742\n",
      "   0.84619701  0.95581392  1.09994388  1.26686158]\n",
      " [ 1.41421356  1.26686158  1.1439589   1.05409255  1.0061539   1.0061539\n",
      "   1.05409255  1.1439589   1.26686158  1.41421356]]\n",
      "[[ 0.36787944  0.44822088  0.51979489  0.57375342  0.60279818  0.60279818\n",
      "   0.57375342  0.51979489  0.44822088  0.36787944]\n",
      " [ 0.44822088  0.54610814  0.63331324  0.69905581  0.73444367  0.73444367\n",
      "   0.69905581  0.63331324  0.54610814  0.44822088]\n",
      " [ 0.51979489  0.63331324  0.73444367  0.81068432  0.85172308  0.85172308\n",
      "   0.81068432  0.73444367  0.63331324  0.51979489]\n",
      " [ 0.57375342  0.69905581  0.81068432  0.89483932  0.9401382   0.9401382\n",
      "   0.89483932  0.81068432  0.69905581  0.57375342]\n",
      " [ 0.60279818  0.73444367  0.85172308  0.9401382   0.98773022  0.98773022\n",
      "   0.9401382   0.85172308  0.73444367  0.60279818]\n",
      " [ 0.60279818  0.73444367  0.85172308  0.9401382   0.98773022  0.98773022\n",
      "   0.9401382   0.85172308  0.73444367  0.60279818]\n",
      " [ 0.57375342  0.69905581  0.81068432  0.89483932  0.9401382   0.9401382\n",
      "   0.89483932  0.81068432  0.69905581  0.57375342]\n",
      " [ 0.51979489  0.63331324  0.73444367  0.81068432  0.85172308  0.85172308\n",
      "   0.81068432  0.73444367  0.63331324  0.51979489]\n",
      " [ 0.44822088  0.54610814  0.63331324  0.69905581  0.73444367  0.73444367\n",
      "   0.69905581  0.63331324  0.54610814  0.44822088]\n",
      " [ 0.36787944  0.44822088  0.51979489  0.57375342  0.60279818  0.60279818\n",
      "   0.57375342  0.51979489  0.44822088  0.36787944]]\n"
     ]
    }
   ],
   "source": [
    "x,y = np.meshgrid(np.linspace(-1,1,10),np.linspace(-1,1,10))\n",
    "print (x)\n",
    "print (y)\n",
    "D = np.sqrt(x**2+y**2)\n",
    "print (D)\n",
    "sigma,mu = 1,0\n",
    "a = np.exp(-(D-mu)**2/(2*sigma**2))\n",
    "print (a)"
   ]
  },
  {
   "cell_type": "code",
   "execution_count": null,
   "metadata": {
    "collapsed": true
   },
   "outputs": [],
   "source": []
  },
  {
   "cell_type": "code",
   "execution_count": null,
   "metadata": {
    "collapsed": true
   },
   "outputs": [],
   "source": []
  },
  {
   "cell_type": "code",
   "execution_count": null,
   "metadata": {
    "collapsed": true
   },
   "outputs": [],
   "source": []
  },
  {
   "cell_type": "code",
   "execution_count": null,
   "metadata": {
    "collapsed": true
   },
   "outputs": [],
   "source": []
  },
  {
   "cell_type": "code",
   "execution_count": null,
   "metadata": {
    "collapsed": true
   },
   "outputs": [],
   "source": []
  },
  {
   "cell_type": "code",
   "execution_count": null,
   "metadata": {
    "collapsed": true
   },
   "outputs": [],
   "source": []
  },
  {
   "cell_type": "code",
   "execution_count": null,
   "metadata": {
    "collapsed": true
   },
   "outputs": [],
   "source": []
  },
  {
   "cell_type": "code",
   "execution_count": null,
   "metadata": {
    "collapsed": true
   },
   "outputs": [],
   "source": []
  },
  {
   "cell_type": "code",
   "execution_count": null,
   "metadata": {
    "collapsed": true
   },
   "outputs": [],
   "source": []
  }
 ],
 "metadata": {
  "kernelspec": {
   "display_name": "Python 3",
   "language": "python",
   "name": "python3"
  },
  "language_info": {
   "codemirror_mode": {
    "name": "ipython",
    "version": 3
   },
   "file_extension": ".py",
   "mimetype": "text/x-python",
   "name": "python",
   "nbconvert_exporter": "python",
   "pygments_lexer": "ipython3",
   "version": "3.6.0"
  }
 },
 "nbformat": 4,
 "nbformat_minor": 1
}
