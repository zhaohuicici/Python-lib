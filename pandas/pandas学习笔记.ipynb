{
 "cells": [
  {
   "cell_type": "markdown",
   "metadata": {},
   "source": [
    "CSDN：http://blog.csdn.net/kicilove/article/\n",
    "\n",
    "github：https://github.com/zhaohuicici?tab=repositories"
   ]
  },
  {
   "cell_type": "code",
   "execution_count": 1,
   "metadata": {
    "collapsed": false
   },
   "outputs": [
    {
     "name": "stdout",
     "output_type": "stream",
     "text": [
      "NDB_No               int64\n",
      "Shrt_Desc           object\n",
      "Water_(g)          float64\n",
      "Energ_Kcal           int64\n",
      "Protein_(g)        float64\n",
      "Lipid_Tot_(g)      float64\n",
      "Ash_(g)            float64\n",
      "Carbohydrt_(g)     float64\n",
      "Fiber_TD_(g)       float64\n",
      "Sugar_Tot_(g)      float64\n",
      "Calcium_(mg)       float64\n",
      "Iron_(mg)          float64\n",
      "Magnesium_(mg)     float64\n",
      "Phosphorus_(mg)    float64\n",
      "Potassium_(mg)     float64\n",
      "Sodium_(mg)        float64\n",
      "Zinc_(mg)          float64\n",
      "Copper_(mg)        float64\n",
      "Manganese_(mg)     float64\n",
      "Selenium_(mcg)     float64\n",
      "Vit_C_(mg)         float64\n",
      "Thiamin_(mg)       float64\n",
      "Riboflavin_(mg)    float64\n",
      "Niacin_(mg)        float64\n",
      "Vit_B6_(mg)        float64\n",
      "Vit_B12_(mcg)      float64\n",
      "Vit_A_IU           float64\n",
      "Vit_A_RAE          float64\n",
      "Vit_E_(mg)         float64\n",
      "Vit_D_mcg          float64\n",
      "Vit_D_IU           float64\n",
      "Vit_K_(mcg)        float64\n",
      "FA_Sat_(g)         float64\n",
      "FA_Mono_(g)        float64\n",
      "FA_Poly_(g)        float64\n",
      "Cholestrl_(mg)     float64\n",
      "dtype: object\n"
     ]
    }
   ],
   "source": [
    "import pandas\n",
    "food_info = pandas.read_csv(\"food_info.csv\")\n",
    "#print(type(food_info))\n",
    "print(food_info.dtypes)"
   ]
  },
  {
   "cell_type": "code",
   "execution_count": 2,
   "metadata": {
    "collapsed": false
   },
   "outputs": [
    {
     "name": "stdout",
     "output_type": "stream",
     "text": [
      "   NDB_No                 Shrt_Desc  Water_(g)  Energ_Kcal  Protein_(g)  \\\n",
      "0    1001          BUTTER WITH SALT      15.87         717         0.85   \n",
      "1    1002  BUTTER WHIPPED WITH SALT      15.87         717         0.85   \n",
      "2    1003      BUTTER OIL ANHYDROUS       0.24         876         0.28   \n",
      "3    1004               CHEESE BLUE      42.41         353        21.40   \n",
      "4    1005              CHEESE BRICK      41.11         371        23.24   \n",
      "\n",
      "   Lipid_Tot_(g)  Ash_(g)  Carbohydrt_(g)  Fiber_TD_(g)  Sugar_Tot_(g)  \\\n",
      "0          81.11     2.11            0.06           0.0           0.06   \n",
      "1          81.11     2.11            0.06           0.0           0.06   \n",
      "2          99.48     0.00            0.00           0.0           0.00   \n",
      "3          28.74     5.11            2.34           0.0           0.50   \n",
      "4          29.68     3.18            2.79           0.0           0.51   \n",
      "\n",
      "        ...        Vit_A_IU  Vit_A_RAE  Vit_E_(mg)  Vit_D_mcg  Vit_D_IU  \\\n",
      "0       ...          2499.0      684.0        2.32        1.5      60.0   \n",
      "1       ...          2499.0      684.0        2.32        1.5      60.0   \n",
      "2       ...          3069.0      840.0        2.80        1.8      73.0   \n",
      "3       ...           721.0      198.0        0.25        0.5      21.0   \n",
      "4       ...          1080.0      292.0        0.26        0.5      22.0   \n",
      "\n",
      "   Vit_K_(mcg)  FA_Sat_(g)  FA_Mono_(g)  FA_Poly_(g)  Cholestrl_(mg)  \n",
      "0          7.0      51.368       21.021        3.043           215.0  \n",
      "1          7.0      50.489       23.426        3.012           219.0  \n",
      "2          8.6      61.924       28.732        3.694           256.0  \n",
      "3          2.4      18.669        7.778        0.800            75.0  \n",
      "4          2.5      18.764        8.598        0.784            94.0  \n",
      "\n",
      "[5 rows x 36 columns]\n",
      "   NDB_No                 Shrt_Desc  Water_(g)  Energ_Kcal  Protein_(g)  \\\n",
      "0    1001          BUTTER WITH SALT      15.87         717         0.85   \n",
      "1    1002  BUTTER WHIPPED WITH SALT      15.87         717         0.85   \n",
      "2    1003      BUTTER OIL ANHYDROUS       0.24         876         0.28   \n",
      "\n",
      "   Lipid_Tot_(g)  Ash_(g)  Carbohydrt_(g)  Fiber_TD_(g)  Sugar_Tot_(g)  \\\n",
      "0          81.11     2.11            0.06           0.0           0.06   \n",
      "1          81.11     2.11            0.06           0.0           0.06   \n",
      "2          99.48     0.00            0.00           0.0           0.00   \n",
      "\n",
      "        ...        Vit_A_IU  Vit_A_RAE  Vit_E_(mg)  Vit_D_mcg  Vit_D_IU  \\\n",
      "0       ...          2499.0      684.0        2.32        1.5      60.0   \n",
      "1       ...          2499.0      684.0        2.32        1.5      60.0   \n",
      "2       ...          3069.0      840.0        2.80        1.8      73.0   \n",
      "\n",
      "   Vit_K_(mcg)  FA_Sat_(g)  FA_Mono_(g)  FA_Poly_(g)  Cholestrl_(mg)  \n",
      "0          7.0      51.368       21.021        3.043           215.0  \n",
      "1          7.0      50.489       23.426        3.012           219.0  \n",
      "2          8.6      61.924       28.732        3.694           256.0  \n",
      "\n",
      "[3 rows x 36 columns]\n",
      "Index(['NDB_No', 'Shrt_Desc', 'Water_(g)', 'Energ_Kcal', 'Protein_(g)',\n",
      "       'Lipid_Tot_(g)', 'Ash_(g)', 'Carbohydrt_(g)', 'Fiber_TD_(g)',\n",
      "       'Sugar_Tot_(g)', 'Calcium_(mg)', 'Iron_(mg)', 'Magnesium_(mg)',\n",
      "       'Phosphorus_(mg)', 'Potassium_(mg)', 'Sodium_(mg)', 'Zinc_(mg)',\n",
      "       'Copper_(mg)', 'Manganese_(mg)', 'Selenium_(mcg)', 'Vit_C_(mg)',\n",
      "       'Thiamin_(mg)', 'Riboflavin_(mg)', 'Niacin_(mg)', 'Vit_B6_(mg)',\n",
      "       'Vit_B12_(mcg)', 'Vit_A_IU', 'Vit_A_RAE', 'Vit_E_(mg)', 'Vit_D_mcg',\n",
      "       'Vit_D_IU', 'Vit_K_(mcg)', 'FA_Sat_(g)', 'FA_Mono_(g)', 'FA_Poly_(g)',\n",
      "       'Cholestrl_(mg)'],\n",
      "      dtype='object')\n",
      "(8618, 36)\n"
     ]
    }
   ],
   "source": [
    "first_rows = food_info.head()\n",
    "print (first_rows)\n",
    "print(food_info.head(3))\n",
    "print (food_info.columns)\n",
    "print (food_info.shape)"
   ]
  },
  {
   "cell_type": "code",
   "execution_count": 3,
   "metadata": {
    "collapsed": false
   },
   "outputs": [
    {
     "name": "stdout",
     "output_type": "stream",
     "text": [
      "NDB_No                         1001\n",
      "Shrt_Desc          BUTTER WITH SALT\n",
      "Water_(g)                     15.87\n",
      "Energ_Kcal                      717\n",
      "Protein_(g)                    0.85\n",
      "Lipid_Tot_(g)                 81.11\n",
      "Ash_(g)                        2.11\n",
      "Carbohydrt_(g)                 0.06\n",
      "Fiber_TD_(g)                      0\n",
      "Sugar_Tot_(g)                  0.06\n",
      "Calcium_(mg)                     24\n",
      "Iron_(mg)                      0.02\n",
      "Magnesium_(mg)                    2\n",
      "Phosphorus_(mg)                  24\n",
      "Potassium_(mg)                   24\n",
      "Sodium_(mg)                     643\n",
      "Zinc_(mg)                      0.09\n",
      "Copper_(mg)                       0\n",
      "Manganese_(mg)                    0\n",
      "Selenium_(mcg)                    1\n",
      "Vit_C_(mg)                        0\n",
      "Thiamin_(mg)                  0.005\n",
      "Riboflavin_(mg)               0.034\n",
      "Niacin_(mg)                   0.042\n",
      "Vit_B6_(mg)                   0.003\n",
      "Vit_B12_(mcg)                  0.17\n",
      "Vit_A_IU                       2499\n",
      "Vit_A_RAE                       684\n",
      "Vit_E_(mg)                     2.32\n",
      "Vit_D_mcg                       1.5\n",
      "Vit_D_IU                         60\n",
      "Vit_K_(mcg)                       7\n",
      "FA_Sat_(g)                   51.368\n",
      "FA_Mono_(g)                  21.021\n",
      "FA_Poly_(g)                   3.043\n",
      "Cholestrl_(mg)                  215\n",
      "Name: 0, dtype: object\n",
      "NDB_No                         1007\n",
      "Shrt_Desc          CHEESE CAMEMBERT\n",
      "Water_(g)                      51.8\n",
      "Energ_Kcal                      300\n",
      "Protein_(g)                    19.8\n",
      "Lipid_Tot_(g)                 24.26\n",
      "Ash_(g)                        3.68\n",
      "Carbohydrt_(g)                 0.46\n",
      "Fiber_TD_(g)                      0\n",
      "Sugar_Tot_(g)                  0.46\n",
      "Calcium_(mg)                    388\n",
      "Iron_(mg)                      0.33\n",
      "Magnesium_(mg)                   20\n",
      "Phosphorus_(mg)                 347\n",
      "Potassium_(mg)                  187\n",
      "Sodium_(mg)                     842\n",
      "Zinc_(mg)                      2.38\n",
      "Copper_(mg)                   0.021\n",
      "Manganese_(mg)                0.038\n",
      "Selenium_(mcg)                 14.5\n",
      "Vit_C_(mg)                        0\n",
      "Thiamin_(mg)                  0.028\n",
      "Riboflavin_(mg)               0.488\n",
      "Niacin_(mg)                    0.63\n",
      "Vit_B6_(mg)                   0.227\n",
      "Vit_B12_(mcg)                   1.3\n",
      "Vit_A_IU                        820\n",
      "Vit_A_RAE                       241\n",
      "Vit_E_(mg)                     0.21\n",
      "Vit_D_mcg                       0.4\n",
      "Vit_D_IU                         18\n",
      "Vit_K_(mcg)                       2\n",
      "FA_Sat_(g)                   15.259\n",
      "FA_Mono_(g)                   7.023\n",
      "FA_Poly_(g)                   0.724\n",
      "Cholestrl_(mg)                   72\n",
      "Name: 6, dtype: object\n"
     ]
    },
    {
     "ename": "KeyError",
     "evalue": "'the label [8620] is not in the [index]'",
     "output_type": "error",
     "traceback": [
      "\u001b[0;31m---------------------------------------------------------------------------\u001b[0m",
      "\u001b[0;31mKeyError\u001b[0m                                  Traceback (most recent call last)",
      "\u001b[0;32mC:\\ProgramData\\Anaconda3\\lib\\site-packages\\pandas\\core\\indexing.py\u001b[0m in \u001b[0;36m_has_valid_type\u001b[0;34m(self, key, axis)\u001b[0m\n\u001b[1;32m   1410\u001b[0m                 \u001b[1;32mif\u001b[0m \u001b[0mkey\u001b[0m \u001b[1;32mnot\u001b[0m \u001b[1;32min\u001b[0m \u001b[0max\u001b[0m\u001b[1;33m:\u001b[0m\u001b[1;33m\u001b[0m\u001b[0m\n\u001b[0;32m-> 1411\u001b[0;31m                     \u001b[0merror\u001b[0m\u001b[1;33m(\u001b[0m\u001b[1;33m)\u001b[0m\u001b[1;33m\u001b[0m\u001b[0m\n\u001b[0m\u001b[1;32m   1412\u001b[0m             \u001b[1;32mexcept\u001b[0m \u001b[0mTypeError\u001b[0m \u001b[1;32mas\u001b[0m \u001b[0me\u001b[0m\u001b[1;33m:\u001b[0m\u001b[1;33m\u001b[0m\u001b[0m\n",
      "\u001b[0;32mC:\\ProgramData\\Anaconda3\\lib\\site-packages\\pandas\\core\\indexing.py\u001b[0m in \u001b[0;36merror\u001b[0;34m()\u001b[0m\n\u001b[1;32m   1405\u001b[0m                 raise KeyError(\"the label [%s] is not in the [%s]\" %\n\u001b[0;32m-> 1406\u001b[0;31m                                (key, self.obj._get_axis_name(axis)))\n\u001b[0m\u001b[1;32m   1407\u001b[0m \u001b[1;33m\u001b[0m\u001b[0m\n",
      "\u001b[0;31mKeyError\u001b[0m: 'the label [8620] is not in the [index]'",
      "\nDuring handling of the above exception, another exception occurred:\n",
      "\u001b[0;31mKeyError\u001b[0m                                  Traceback (most recent call last)",
      "\u001b[0;32m<ipython-input-3-e44b0aa4bbad>\u001b[0m in \u001b[0;36m<module>\u001b[0;34m()\u001b[0m\n\u001b[1;32m      7\u001b[0m \u001b[1;33m\u001b[0m\u001b[0m\n\u001b[1;32m      8\u001b[0m \u001b[1;31m# Will throw an error: \"KeyError: 'the label [8620] is not in the [index]'\"\u001b[0m\u001b[1;33m\u001b[0m\u001b[1;33m\u001b[0m\u001b[0m\n\u001b[0;32m----> 9\u001b[0;31m \u001b[0mprint\u001b[0m\u001b[1;33m(\u001b[0m\u001b[0mfood_info\u001b[0m\u001b[1;33m.\u001b[0m\u001b[0mloc\u001b[0m\u001b[1;33m[\u001b[0m\u001b[1;36m8620\u001b[0m\u001b[1;33m]\u001b[0m\u001b[1;33m)\u001b[0m\u001b[1;33m\u001b[0m\u001b[0m\n\u001b[0m\u001b[1;32m     10\u001b[0m \u001b[1;31m#The object dtype is equivalent to a string in Python\u001b[0m\u001b[1;33m\u001b[0m\u001b[1;33m\u001b[0m\u001b[0m\n",
      "\u001b[0;32mC:\\ProgramData\\Anaconda3\\lib\\site-packages\\pandas\\core\\indexing.py\u001b[0m in \u001b[0;36m__getitem__\u001b[0;34m(self, key)\u001b[0m\n\u001b[1;32m   1310\u001b[0m             \u001b[1;32mreturn\u001b[0m \u001b[0mself\u001b[0m\u001b[1;33m.\u001b[0m\u001b[0m_getitem_tuple\u001b[0m\u001b[1;33m(\u001b[0m\u001b[0mkey\u001b[0m\u001b[1;33m)\u001b[0m\u001b[1;33m\u001b[0m\u001b[0m\n\u001b[1;32m   1311\u001b[0m         \u001b[1;32melse\u001b[0m\u001b[1;33m:\u001b[0m\u001b[1;33m\u001b[0m\u001b[0m\n\u001b[0;32m-> 1312\u001b[0;31m             \u001b[1;32mreturn\u001b[0m \u001b[0mself\u001b[0m\u001b[1;33m.\u001b[0m\u001b[0m_getitem_axis\u001b[0m\u001b[1;33m(\u001b[0m\u001b[0mkey\u001b[0m\u001b[1;33m,\u001b[0m \u001b[0maxis\u001b[0m\u001b[1;33m=\u001b[0m\u001b[1;36m0\u001b[0m\u001b[1;33m)\u001b[0m\u001b[1;33m\u001b[0m\u001b[0m\n\u001b[0m\u001b[1;32m   1313\u001b[0m \u001b[1;33m\u001b[0m\u001b[0m\n\u001b[1;32m   1314\u001b[0m     \u001b[1;32mdef\u001b[0m \u001b[0m_getitem_axis\u001b[0m\u001b[1;33m(\u001b[0m\u001b[0mself\u001b[0m\u001b[1;33m,\u001b[0m \u001b[0mkey\u001b[0m\u001b[1;33m,\u001b[0m \u001b[0maxis\u001b[0m\u001b[1;33m=\u001b[0m\u001b[1;36m0\u001b[0m\u001b[1;33m)\u001b[0m\u001b[1;33m:\u001b[0m\u001b[1;33m\u001b[0m\u001b[0m\n",
      "\u001b[0;32mC:\\ProgramData\\Anaconda3\\lib\\site-packages\\pandas\\core\\indexing.py\u001b[0m in \u001b[0;36m_getitem_axis\u001b[0;34m(self, key, axis)\u001b[0m\n\u001b[1;32m   1480\u001b[0m \u001b[1;33m\u001b[0m\u001b[0m\n\u001b[1;32m   1481\u001b[0m         \u001b[1;31m# fall thru to straight lookup\u001b[0m\u001b[1;33m\u001b[0m\u001b[1;33m\u001b[0m\u001b[0m\n\u001b[0;32m-> 1482\u001b[0;31m         \u001b[0mself\u001b[0m\u001b[1;33m.\u001b[0m\u001b[0m_has_valid_type\u001b[0m\u001b[1;33m(\u001b[0m\u001b[0mkey\u001b[0m\u001b[1;33m,\u001b[0m \u001b[0maxis\u001b[0m\u001b[1;33m)\u001b[0m\u001b[1;33m\u001b[0m\u001b[0m\n\u001b[0m\u001b[1;32m   1483\u001b[0m         \u001b[1;32mreturn\u001b[0m \u001b[0mself\u001b[0m\u001b[1;33m.\u001b[0m\u001b[0m_get_label\u001b[0m\u001b[1;33m(\u001b[0m\u001b[0mkey\u001b[0m\u001b[1;33m,\u001b[0m \u001b[0maxis\u001b[0m\u001b[1;33m=\u001b[0m\u001b[0maxis\u001b[0m\u001b[1;33m)\u001b[0m\u001b[1;33m\u001b[0m\u001b[0m\n\u001b[1;32m   1484\u001b[0m \u001b[1;33m\u001b[0m\u001b[0m\n",
      "\u001b[0;32mC:\\ProgramData\\Anaconda3\\lib\\site-packages\\pandas\\core\\indexing.py\u001b[0m in \u001b[0;36m_has_valid_type\u001b[0;34m(self, key, axis)\u001b[0m\n\u001b[1;32m   1417\u001b[0m                 \u001b[1;32mraise\u001b[0m\u001b[1;33m\u001b[0m\u001b[0m\n\u001b[1;32m   1418\u001b[0m             \u001b[1;32mexcept\u001b[0m\u001b[1;33m:\u001b[0m\u001b[1;33m\u001b[0m\u001b[0m\n\u001b[0;32m-> 1419\u001b[0;31m                 \u001b[0merror\u001b[0m\u001b[1;33m(\u001b[0m\u001b[1;33m)\u001b[0m\u001b[1;33m\u001b[0m\u001b[0m\n\u001b[0m\u001b[1;32m   1420\u001b[0m \u001b[1;33m\u001b[0m\u001b[0m\n\u001b[1;32m   1421\u001b[0m         \u001b[1;32mreturn\u001b[0m \u001b[1;32mTrue\u001b[0m\u001b[1;33m\u001b[0m\u001b[0m\n",
      "\u001b[0;32mC:\\ProgramData\\Anaconda3\\lib\\site-packages\\pandas\\core\\indexing.py\u001b[0m in \u001b[0;36merror\u001b[0;34m()\u001b[0m\n\u001b[1;32m   1404\u001b[0m                                     \"key\")\n\u001b[1;32m   1405\u001b[0m                 raise KeyError(\"the label [%s] is not in the [%s]\" %\n\u001b[0;32m-> 1406\u001b[0;31m                                (key, self.obj._get_axis_name(axis)))\n\u001b[0m\u001b[1;32m   1407\u001b[0m \u001b[1;33m\u001b[0m\u001b[0m\n\u001b[1;32m   1408\u001b[0m             \u001b[1;32mtry\u001b[0m\u001b[1;33m:\u001b[0m\u001b[1;33m\u001b[0m\u001b[0m\n",
      "\u001b[0;31mKeyError\u001b[0m: 'the label [8620] is not in the [index]'"
     ]
    }
   ],
   "source": [
    "#pandas uses zero-indexing\n",
    "#Series object representing the row at index 0.\n",
    "print (food_info.loc[0])\n",
    "\n",
    "# Series object representing the seventh row.\n",
    "print(food_info.loc[6])\n",
    "\n",
    "# Will throw an error: \"KeyError: 'the label [8620] is not in the [index]'\"\n",
    "print(food_info.loc[8620])\n",
    "#The object dtype is equivalent to a string in Python"
   ]
  },
  {
   "cell_type": "code",
   "execution_count": 4,
   "metadata": {
    "collapsed": false
   },
   "outputs": [],
   "source": [
    "#object - For string values\n",
    "#int - For integer values\n",
    "#float - For float values\n",
    "#datetime - For time values\n",
    "#bool - For Boolean values\n",
    "#print(food_info.dtypes)"
   ]
  },
  {
   "cell_type": "code",
   "execution_count": 5,
   "metadata": {
    "collapsed": false
   },
   "outputs": [
    {
     "name": "stdout",
     "output_type": "stream",
     "text": [
      "   NDB_No         Shrt_Desc  Water_(g)  Energ_Kcal  Protein_(g)  \\\n",
      "3    1004       CHEESE BLUE      42.41         353        21.40   \n",
      "4    1005      CHEESE BRICK      41.11         371        23.24   \n",
      "5    1006       CHEESE BRIE      48.42         334        20.75   \n",
      "6    1007  CHEESE CAMEMBERT      51.80         300        19.80   \n",
      "\n",
      "   Lipid_Tot_(g)  Ash_(g)  Carbohydrt_(g)  Fiber_TD_(g)  Sugar_Tot_(g)  \\\n",
      "3          28.74     5.11            2.34           0.0           0.50   \n",
      "4          29.68     3.18            2.79           0.0           0.51   \n",
      "5          27.68     2.70            0.45           0.0           0.45   \n",
      "6          24.26     3.68            0.46           0.0           0.46   \n",
      "\n",
      "        ...        Vit_A_IU  Vit_A_RAE  Vit_E_(mg)  Vit_D_mcg  Vit_D_IU  \\\n",
      "3       ...           721.0      198.0        0.25        0.5      21.0   \n",
      "4       ...          1080.0      292.0        0.26        0.5      22.0   \n",
      "5       ...           592.0      174.0        0.24        0.5      20.0   \n",
      "6       ...           820.0      241.0        0.21        0.4      18.0   \n",
      "\n",
      "   Vit_K_(mcg)  FA_Sat_(g)  FA_Mono_(g)  FA_Poly_(g)  Cholestrl_(mg)  \n",
      "3          2.4      18.669        7.778        0.800            75.0  \n",
      "4          2.5      18.764        8.598        0.784            94.0  \n",
      "5          2.3      17.410        8.013        0.826           100.0  \n",
      "6          2.0      15.259        7.023        0.724            72.0  \n",
      "\n",
      "[4 rows x 36 columns]\n",
      "    NDB_No             Shrt_Desc  Water_(g)  Energ_Kcal  Protein_(g)  \\\n",
      "2     1003  BUTTER OIL ANHYDROUS       0.24         876         0.28   \n",
      "5     1006           CHEESE BRIE      48.42         334        20.75   \n",
      "10    1011          CHEESE COLBY      38.20         394        23.76   \n",
      "\n",
      "    Lipid_Tot_(g)  Ash_(g)  Carbohydrt_(g)  Fiber_TD_(g)  Sugar_Tot_(g)  \\\n",
      "2           99.48     0.00            0.00           0.0           0.00   \n",
      "5           27.68     2.70            0.45           0.0           0.45   \n",
      "10          32.11     3.36            2.57           0.0           0.52   \n",
      "\n",
      "         ...        Vit_A_IU  Vit_A_RAE  Vit_E_(mg)  Vit_D_mcg  Vit_D_IU  \\\n",
      "2        ...          3069.0      840.0        2.80        1.8      73.0   \n",
      "5        ...           592.0      174.0        0.24        0.5      20.0   \n",
      "10       ...           994.0      264.0        0.28        0.6      24.0   \n",
      "\n",
      "    Vit_K_(mcg)  FA_Sat_(g)  FA_Mono_(g)  FA_Poly_(g)  Cholestrl_(mg)  \n",
      "2           8.6      61.924       28.732        3.694           256.0  \n",
      "5           2.3      17.410        8.013        0.826           100.0  \n",
      "10          2.7      20.218        9.280        0.953            95.0  \n",
      "\n",
      "[3 rows x 36 columns]\n",
      "    NDB_No             Shrt_Desc  Water_(g)  Energ_Kcal  Protein_(g)  \\\n",
      "2     1003  BUTTER OIL ANHYDROUS       0.24         876         0.28   \n",
      "5     1006           CHEESE BRIE      48.42         334        20.75   \n",
      "10    1011          CHEESE COLBY      38.20         394        23.76   \n",
      "\n",
      "    Lipid_Tot_(g)  Ash_(g)  Carbohydrt_(g)  Fiber_TD_(g)  Sugar_Tot_(g)  \\\n",
      "2           99.48     0.00            0.00           0.0           0.00   \n",
      "5           27.68     2.70            0.45           0.0           0.45   \n",
      "10          32.11     3.36            2.57           0.0           0.52   \n",
      "\n",
      "         ...        Vit_A_IU  Vit_A_RAE  Vit_E_(mg)  Vit_D_mcg  Vit_D_IU  \\\n",
      "2        ...          3069.0      840.0        2.80        1.8      73.0   \n",
      "5        ...           592.0      174.0        0.24        0.5      20.0   \n",
      "10       ...           994.0      264.0        0.28        0.6      24.0   \n",
      "\n",
      "    Vit_K_(mcg)  FA_Sat_(g)  FA_Mono_(g)  FA_Poly_(g)  Cholestrl_(mg)  \n",
      "2           8.6      61.924       28.732        3.694           256.0  \n",
      "5           2.3      17.410        8.013        0.826           100.0  \n",
      "10          2.7      20.218        9.280        0.953            95.0  \n",
      "\n",
      "[3 rows x 36 columns]\n"
     ]
    }
   ],
   "source": [
    "# Returns a DataFrame containing the rows at indexes 3, 4, 5, and 6.\n",
    "print(food_info.loc[3:6])\n",
    "\n",
    "# Returns a DataFrame containing the rows at indexes 2, 5, and 10. Either of the following approaches will work.\n",
    "# Method 1\n",
    "two_five_ten = [2,5,10] \n",
    "print(food_info.loc[two_five_ten])\n",
    "\n",
    "# Method 2\n",
    "print(food_info.loc[[2,5,10]])"
   ]
  },
  {
   "cell_type": "code",
   "execution_count": 6,
   "metadata": {
    "collapsed": false
   },
   "outputs": [
    {
     "name": "stdout",
     "output_type": "stream",
     "text": [
      "0        1001\n",
      "1        1002\n",
      "2        1003\n",
      "3        1004\n",
      "4        1005\n",
      "5        1006\n",
      "6        1007\n",
      "7        1008\n",
      "8        1009\n",
      "9        1010\n",
      "10       1011\n",
      "11       1012\n",
      "12       1013\n",
      "13       1014\n",
      "14       1015\n",
      "15       1016\n",
      "16       1017\n",
      "17       1018\n",
      "18       1019\n",
      "19       1020\n",
      "20       1021\n",
      "21       1022\n",
      "22       1023\n",
      "23       1024\n",
      "24       1025\n",
      "25       1026\n",
      "26       1027\n",
      "27       1028\n",
      "28       1029\n",
      "29       1030\n",
      "        ...  \n",
      "8588    43544\n",
      "8589    43546\n",
      "8590    43550\n",
      "8591    43566\n",
      "8592    43570\n",
      "8593    43572\n",
      "8594    43585\n",
      "8595    43589\n",
      "8596    43595\n",
      "8597    43597\n",
      "8598    43598\n",
      "8599    44005\n",
      "8600    44018\n",
      "8601    44048\n",
      "8602    44055\n",
      "8603    44061\n",
      "8604    44074\n",
      "8605    44110\n",
      "8606    44158\n",
      "8607    44203\n",
      "8608    44258\n",
      "8609    44259\n",
      "8610    44260\n",
      "8611    48052\n",
      "8612    80200\n",
      "8613    83110\n",
      "8614    90240\n",
      "8615    90480\n",
      "8616    90560\n",
      "8617    93600\n",
      "Name: NDB_No, dtype: int64\n"
     ]
    }
   ],
   "source": [
    "# Series object representing the \"NDB_No\" column.\n",
    "ndb_col = food_info[\"NDB_No\"]\n",
    "print (ndb_col)\n",
    "# Alternatively, you can access a column by passing in a string variable.\n",
    "col_name = \"NDB_No\"\n",
    "ndb_col = food_info[col_name]"
   ]
  },
  {
   "cell_type": "code",
   "execution_count": 7,
   "metadata": {
    "collapsed": false
   },
   "outputs": [
    {
     "name": "stdout",
     "output_type": "stream",
     "text": [
      "      Zinc_(mg)  Copper_(mg)\n",
      "0          0.09        0.000\n",
      "1          0.05        0.016\n",
      "2          0.01        0.001\n",
      "3          2.66        0.040\n",
      "4          2.60        0.024\n",
      "5          2.38        0.019\n",
      "6          2.38        0.021\n",
      "7          2.94        0.024\n",
      "8          3.43        0.056\n",
      "9          2.79        0.042\n",
      "10         3.07        0.042\n",
      "11         0.40        0.029\n",
      "12         0.33        0.040\n",
      "13         0.47        0.030\n",
      "14         0.51        0.033\n",
      "15         0.38        0.028\n",
      "16         0.51        0.019\n",
      "17         3.75        0.036\n",
      "18         2.88        0.032\n",
      "19         3.50        0.025\n",
      "20         1.14        0.080\n",
      "21         3.90        0.036\n",
      "22         3.90        0.032\n",
      "23         2.10        0.021\n",
      "24         3.00        0.032\n",
      "25         2.92        0.011\n",
      "26         2.46        0.022\n",
      "27         2.76        0.025\n",
      "28         3.61        0.034\n",
      "29         2.81        0.031\n",
      "...         ...          ...\n",
      "8588       3.30        0.377\n",
      "8589       0.05        0.040\n",
      "8590       0.05        0.030\n",
      "8591       1.15        0.116\n",
      "8592       5.03        0.200\n",
      "8593       3.83        0.545\n",
      "8594       0.08        0.035\n",
      "8595       3.90        0.027\n",
      "8596       4.10        0.100\n",
      "8597       3.13        0.027\n",
      "8598       0.13        0.000\n",
      "8599       0.02        0.000\n",
      "8600       0.09        0.037\n",
      "8601       0.21        0.026\n",
      "8602       2.77        0.571\n",
      "8603       0.41        0.838\n",
      "8604       0.05        0.028\n",
      "8605       0.03        0.023\n",
      "8606       0.10        0.112\n",
      "8607       0.02        0.020\n",
      "8608       1.49        0.854\n",
      "8609       0.19        0.040\n",
      "8610       0.10        0.038\n",
      "8611       0.85        0.182\n",
      "8612       1.00        0.250\n",
      "8613       1.10        0.100\n",
      "8614       1.55        0.033\n",
      "8615       0.19        0.020\n",
      "8616       1.00        0.400\n",
      "8617       1.00        0.250\n",
      "\n",
      "[8618 rows x 2 columns]\n"
     ]
    }
   ],
   "source": [
    "columns = [\"Zinc_(mg)\", \"Copper_(mg)\"]\n",
    "zinc_copper = food_info[columns]\n",
    "print (zinc_copper)\n",
    "\n",
    "# Skipping the assignment.\n",
    "zinc_copper = food_info[[\"Zinc_(mg)\", \"Copper_(mg)\"]]"
   ]
  },
  {
   "cell_type": "code",
   "execution_count": 8,
   "metadata": {
    "collapsed": false
   },
   "outputs": [
    {
     "name": "stdout",
     "output_type": "stream",
     "text": [
      "Index(['NDB_No', 'Shrt_Desc', 'Water_(g)', 'Energ_Kcal', 'Protein_(g)',\n",
      "       'Lipid_Tot_(g)', 'Ash_(g)', 'Carbohydrt_(g)', 'Fiber_TD_(g)',\n",
      "       'Sugar_Tot_(g)', 'Calcium_(mg)', 'Iron_(mg)', 'Magnesium_(mg)',\n",
      "       'Phosphorus_(mg)', 'Potassium_(mg)', 'Sodium_(mg)', 'Zinc_(mg)',\n",
      "       'Copper_(mg)', 'Manganese_(mg)', 'Selenium_(mcg)', 'Vit_C_(mg)',\n",
      "       'Thiamin_(mg)', 'Riboflavin_(mg)', 'Niacin_(mg)', 'Vit_B6_(mg)',\n",
      "       'Vit_B12_(mcg)', 'Vit_A_IU', 'Vit_A_RAE', 'Vit_E_(mg)', 'Vit_D_mcg',\n",
      "       'Vit_D_IU', 'Vit_K_(mcg)', 'FA_Sat_(g)', 'FA_Mono_(g)', 'FA_Poly_(g)',\n",
      "       'Cholestrl_(mg)'],\n",
      "      dtype='object')\n",
      "   NDB_No                 Shrt_Desc  Water_(g)  Energ_Kcal  Protein_(g)  \\\n",
      "0    1001          BUTTER WITH SALT      15.87         717         0.85   \n",
      "1    1002  BUTTER WHIPPED WITH SALT      15.87         717         0.85   \n",
      "\n",
      "   Lipid_Tot_(g)  Ash_(g)  Carbohydrt_(g)  Fiber_TD_(g)  Sugar_Tot_(g)  \\\n",
      "0          81.11     2.11            0.06           0.0           0.06   \n",
      "1          81.11     2.11            0.06           0.0           0.06   \n",
      "\n",
      "        ...        Vit_A_IU  Vit_A_RAE  Vit_E_(mg)  Vit_D_mcg  Vit_D_IU  \\\n",
      "0       ...          2499.0      684.0        2.32        1.5      60.0   \n",
      "1       ...          2499.0      684.0        2.32        1.5      60.0   \n",
      "\n",
      "   Vit_K_(mcg)  FA_Sat_(g)  FA_Mono_(g)  FA_Poly_(g)  Cholestrl_(mg)  \n",
      "0          7.0      51.368       21.021        3.043           215.0  \n",
      "1          7.0      50.489       23.426        3.012           219.0  \n",
      "\n",
      "[2 rows x 36 columns]\n",
      "['NDB_No', 'Shrt_Desc', 'Water_(g)', 'Energ_Kcal', 'Protein_(g)', 'Lipid_Tot_(g)', 'Ash_(g)', 'Carbohydrt_(g)', 'Fiber_TD_(g)', 'Sugar_Tot_(g)', 'Calcium_(mg)', 'Iron_(mg)', 'Magnesium_(mg)', 'Phosphorus_(mg)', 'Potassium_(mg)', 'Sodium_(mg)', 'Zinc_(mg)', 'Copper_(mg)', 'Manganese_(mg)', 'Selenium_(mcg)', 'Vit_C_(mg)', 'Thiamin_(mg)', 'Riboflavin_(mg)', 'Niacin_(mg)', 'Vit_B6_(mg)', 'Vit_B12_(mcg)', 'Vit_A_IU', 'Vit_A_RAE', 'Vit_E_(mg)', 'Vit_D_mcg', 'Vit_D_IU', 'Vit_K_(mcg)', 'FA_Sat_(g)', 'FA_Mono_(g)', 'FA_Poly_(g)', 'Cholestrl_(mg)']\n",
      "   Water_(g)  Protein_(g)  Lipid_Tot_(g)  Ash_(g)  Carbohydrt_(g)  \\\n",
      "0      15.87         0.85          81.11     2.11            0.06   \n",
      "1      15.87         0.85          81.11     2.11            0.06   \n",
      "2       0.24         0.28          99.48     0.00            0.00   \n",
      "\n",
      "   Fiber_TD_(g)  Sugar_Tot_(g)  FA_Sat_(g)  FA_Mono_(g)  FA_Poly_(g)  \n",
      "0           0.0           0.06      51.368       21.021        3.043  \n",
      "1           0.0           0.06      50.489       23.426        3.012  \n",
      "2           0.0           0.00      61.924       28.732        3.694  \n"
     ]
    }
   ],
   "source": [
    "print(food_info.columns)\n",
    "print(food_info.head(2))\n",
    "col_names = food_info.columns.tolist()\n",
    "print (col_names)\n",
    "gram_columns = []\n",
    "\n",
    "for c in col_names:\n",
    "    if c.endswith(\"(g)\"):\n",
    "        gram_columns.append(c)\n",
    "gram_df = food_info[gram_columns]\n",
    "print(gram_df.head(3))"
   ]
  },
  {
   "cell_type": "markdown",
   "metadata": {
    "collapsed": true
   },
   "source": [
    "二"
   ]
  },
  {
   "cell_type": "code",
   "execution_count": 9,
   "metadata": {
    "collapsed": false
   },
   "outputs": [
    {
     "name": "stdout",
     "output_type": "stream",
     "text": [
      "['NDB_No', 'Shrt_Desc', 'Water_(g)', 'Energ_Kcal', 'Protein_(g)', 'Lipid_Tot_(g)', 'Ash_(g)', 'Carbohydrt_(g)', 'Fiber_TD_(g)', 'Sugar_Tot_(g)', 'Calcium_(mg)', 'Iron_(mg)', 'Magnesium_(mg)', 'Phosphorus_(mg)', 'Potassium_(mg)', 'Sodium_(mg)', 'Zinc_(mg)', 'Copper_(mg)', 'Manganese_(mg)', 'Selenium_(mcg)', 'Vit_C_(mg)', 'Thiamin_(mg)', 'Riboflavin_(mg)', 'Niacin_(mg)', 'Vit_B6_(mg)', 'Vit_B12_(mcg)', 'Vit_A_IU', 'Vit_A_RAE', 'Vit_E_(mg)', 'Vit_D_mcg', 'Vit_D_IU', 'Vit_K_(mcg)', 'FA_Sat_(g)', 'FA_Mono_(g)', 'FA_Poly_(g)', 'Cholestrl_(mg)']\n",
      "   NDB_No                 Shrt_Desc  Water_(g)  Energ_Kcal  Protein_(g)  \\\n",
      "0    1001          BUTTER WITH SALT      15.87         717         0.85   \n",
      "1    1002  BUTTER WHIPPED WITH SALT      15.87         717         0.85   \n",
      "2    1003      BUTTER OIL ANHYDROUS       0.24         876         0.28   \n",
      "\n",
      "   Lipid_Tot_(g)  Ash_(g)  Carbohydrt_(g)  Fiber_TD_(g)  Sugar_Tot_(g)  \\\n",
      "0          81.11     2.11            0.06           0.0           0.06   \n",
      "1          81.11     2.11            0.06           0.0           0.06   \n",
      "2          99.48     0.00            0.00           0.0           0.00   \n",
      "\n",
      "        ...        Vit_A_IU  Vit_A_RAE  Vit_E_(mg)  Vit_D_mcg  Vit_D_IU  \\\n",
      "0       ...          2499.0      684.0        2.32        1.5      60.0   \n",
      "1       ...          2499.0      684.0        2.32        1.5      60.0   \n",
      "2       ...          3069.0      840.0        2.80        1.8      73.0   \n",
      "\n",
      "   Vit_K_(mcg)  FA_Sat_(g)  FA_Mono_(g)  FA_Poly_(g)  Cholestrl_(mg)  \n",
      "0          7.0      51.368       21.021        3.043           215.0  \n",
      "1          7.0      50.489       23.426        3.012           219.0  \n",
      "2          8.6      61.924       28.732        3.694           256.0  \n",
      "\n",
      "[3 rows x 36 columns]\n"
     ]
    }
   ],
   "source": [
    "import pandas\n",
    "food_info = pandas.read_csv(\"food_info.csv\")\n",
    "col_names = food_info.columns.tolist()\n",
    "print(col_names)\n",
    "print(food_info.head(3))"
   ]
  },
  {
   "cell_type": "code",
   "execution_count": 10,
   "metadata": {
    "collapsed": true
   },
   "outputs": [],
   "source": [
    "#print food_info[\"Iron_(mg)\"]\n",
    "#div_1000 = food_info[\"Iron_(mg)\"] / 1000\n",
    "#print div_1000\n",
    "# Adds 100 to each value in the column and returns a Series object.\n",
    "#add_100 = food_info[\"Iron_(mg)\"] + 100\n",
    "\n",
    "# Subtracts 100 from each value in the column and returns a Series object.\n",
    "#sub_100 = food_info[\"Iron_(mg)\"] - 100\n",
    "\n",
    "# Multiplies each value in the column by 2 and returns a Series object.\n",
    "#mult_2 = food_info[\"Iron_(mg)\"]*2"
   ]
  },
  {
   "cell_type": "code",
   "execution_count": 11,
   "metadata": {
    "collapsed": true
   },
   "outputs": [],
   "source": [
    "#It applies the arithmetic operator to the first value in both columns, the second value in both columns, and so on\n",
    "water_energy = food_info[\"Water_(g)\"] * food_info[\"Energ_Kcal\"]\n",
    "water_energy = food_info[\"Water_(g)\"] * food_info[\"Energ_Kcal\"]\n",
    "iron_grams = food_info[\"Iron_(mg)\"] / 1000  \n",
    "food_info[\"Iron_(g)\"] = iron_grams"
   ]
  },
  {
   "cell_type": "code",
   "execution_count": 12,
   "metadata": {
    "collapsed": true
   },
   "outputs": [],
   "source": [
    "#Score=2×(Protein_(g))−0.75×(Lipid_Tot_(g))\n",
    "weighted_protein = food_info[\"Protein_(g)\"] * 2\n",
    "weighted_fat = -0.75 * food_info[\"Lipid_Tot_(g)\"]\n",
    "initial_rating = weighted_protein + weighted_fat"
   ]
  },
  {
   "cell_type": "code",
   "execution_count": 13,
   "metadata": {
    "collapsed": true
   },
   "outputs": [],
   "source": [
    "# the \"Vit_A_IU\" column ranges from 0 to 100000, while the \"Fiber_TD_(g)\" column ranges from 0 to 79\n",
    "#For certain calculations, columns like \"Vit_A_IU\" can have a greater effect on the result, \n",
    "#due to the scale of the values\n",
    "# The largest value in the \"Energ_Kcal\" column.\n",
    "max_calories = food_info[\"Energ_Kcal\"].max()\n",
    "# Divide the values in \"Energ_Kcal\" by the largest value.\n",
    "normalized_calories = food_info[\"Energ_Kcal\"] / max_calories\n",
    "normalized_protein = food_info[\"Protein_(g)\"] / food_info[\"Protein_(g)\"].max()\n",
    "normalized_fat = food_info[\"Lipid_Tot_(g)\"] / food_info[\"Lipid_Tot_(g)\"].max()\n",
    "food_info[\"Normalized_Protein\"] = normalized_protein\n",
    "food_info[\"Normalized_Fat\"] = normalized_fat"
   ]
  },
  {
   "cell_type": "code",
   "execution_count": 14,
   "metadata": {
    "collapsed": false
   },
   "outputs": [
    {
     "name": "stdout",
     "output_type": "stream",
     "text": [
      "760     0.0\n",
      "758     0.0\n",
      "405     0.0\n",
      "761     0.0\n",
      "2269    0.0\n",
      "763     0.0\n",
      "764     0.0\n",
      "770     0.0\n",
      "774     0.0\n",
      "396     0.0\n",
      "395     0.0\n",
      "6827    0.0\n",
      "394     0.0\n",
      "393     0.0\n",
      "391     0.0\n",
      "390     0.0\n",
      "787     0.0\n",
      "788     0.0\n",
      "2270    0.0\n",
      "2231    0.0\n",
      "407     0.0\n",
      "748     0.0\n",
      "409     0.0\n",
      "747     0.0\n",
      "702     0.0\n",
      "703     0.0\n",
      "704     0.0\n",
      "705     0.0\n",
      "706     0.0\n",
      "707     0.0\n",
      "       ... \n",
      "8153    NaN\n",
      "8155    NaN\n",
      "8156    NaN\n",
      "8157    NaN\n",
      "8158    NaN\n",
      "8159    NaN\n",
      "8160    NaN\n",
      "8161    NaN\n",
      "8163    NaN\n",
      "8164    NaN\n",
      "8165    NaN\n",
      "8167    NaN\n",
      "8169    NaN\n",
      "8170    NaN\n",
      "8172    NaN\n",
      "8173    NaN\n",
      "8174    NaN\n",
      "8175    NaN\n",
      "8176    NaN\n",
      "8177    NaN\n",
      "8178    NaN\n",
      "8179    NaN\n",
      "8180    NaN\n",
      "8181    NaN\n",
      "8183    NaN\n",
      "8184    NaN\n",
      "8185    NaN\n",
      "8195    NaN\n",
      "8251    NaN\n",
      "8267    NaN\n",
      "Name: Sodium_(mg), dtype: float64\n",
      "276     38758.0\n",
      "5814    27360.0\n",
      "6192    26050.0\n",
      "1242    26000.0\n",
      "1245    24000.0\n",
      "1243    24000.0\n",
      "1244    23875.0\n",
      "292     17000.0\n",
      "1254    11588.0\n",
      "5811    10600.0\n",
      "8575     9690.0\n",
      "291      8068.0\n",
      "1249     8031.0\n",
      "5812     7893.0\n",
      "1292     7851.0\n",
      "293      7203.0\n",
      "4472     7027.0\n",
      "4836     6820.0\n",
      "1261     6580.0\n",
      "3747     6008.0\n",
      "1266     5730.0\n",
      "4835     5586.0\n",
      "4834     5493.0\n",
      "1263     5356.0\n",
      "1553     5203.0\n",
      "1552     5053.0\n",
      "1251     4957.0\n",
      "1257     4843.0\n",
      "294      4616.0\n",
      "8613     4450.0\n",
      "         ...   \n",
      "8153        NaN\n",
      "8155        NaN\n",
      "8156        NaN\n",
      "8157        NaN\n",
      "8158        NaN\n",
      "8159        NaN\n",
      "8160        NaN\n",
      "8161        NaN\n",
      "8163        NaN\n",
      "8164        NaN\n",
      "8165        NaN\n",
      "8167        NaN\n",
      "8169        NaN\n",
      "8170        NaN\n",
      "8172        NaN\n",
      "8173        NaN\n",
      "8174        NaN\n",
      "8175        NaN\n",
      "8176        NaN\n",
      "8177        NaN\n",
      "8178        NaN\n",
      "8179        NaN\n",
      "8180        NaN\n",
      "8181        NaN\n",
      "8183        NaN\n",
      "8184        NaN\n",
      "8185        NaN\n",
      "8195        NaN\n",
      "8251        NaN\n",
      "8267        NaN\n",
      "Name: Sodium_(mg), dtype: float64\n"
     ]
    }
   ],
   "source": [
    "#By default, pandas will sort the data by the column we specify in ascending order and return a new DataFrame\n",
    "# Sorts the DataFrame in-place, rather than returning a new DataFrame.\n",
    "#print food_info[\"Sodium_(mg)\"]\n",
    "food_info.sort_values(\"Sodium_(mg)\", inplace=True)\n",
    "print( food_info[\"Sodium_(mg)\"])\n",
    "#Sorts by descending order, rather than ascending.\n",
    "food_info.sort_values(\"Sodium_(mg)\", inplace=True, ascending=False)\n",
    "print (food_info[\"Sodium_(mg)\"])"
   ]
  },
  {
   "cell_type": "markdown",
   "metadata": {},
   "source": [
    "三"
   ]
  },
  {
   "cell_type": "code",
   "execution_count": 15,
   "metadata": {
    "collapsed": false
   },
   "outputs": [
    {
     "data": {
      "text/html": [
       "<div>\n",
       "<table border=\"1\" class=\"dataframe\">\n",
       "  <thead>\n",
       "    <tr style=\"text-align: right;\">\n",
       "      <th></th>\n",
       "      <th>PassengerId</th>\n",
       "      <th>Survived</th>\n",
       "      <th>Pclass</th>\n",
       "      <th>Name</th>\n",
       "      <th>Sex</th>\n",
       "      <th>Age</th>\n",
       "      <th>SibSp</th>\n",
       "      <th>Parch</th>\n",
       "      <th>Ticket</th>\n",
       "      <th>Fare</th>\n",
       "      <th>Cabin</th>\n",
       "      <th>Embarked</th>\n",
       "    </tr>\n",
       "  </thead>\n",
       "  <tbody>\n",
       "    <tr>\n",
       "      <th>0</th>\n",
       "      <td>1</td>\n",
       "      <td>0</td>\n",
       "      <td>3</td>\n",
       "      <td>Braund, Mr. Owen Harris</td>\n",
       "      <td>male</td>\n",
       "      <td>22.0</td>\n",
       "      <td>1</td>\n",
       "      <td>0</td>\n",
       "      <td>A/5 21171</td>\n",
       "      <td>7.2500</td>\n",
       "      <td>NaN</td>\n",
       "      <td>S</td>\n",
       "    </tr>\n",
       "    <tr>\n",
       "      <th>1</th>\n",
       "      <td>2</td>\n",
       "      <td>1</td>\n",
       "      <td>1</td>\n",
       "      <td>Cumings, Mrs. John Bradley (Florence Briggs Th...</td>\n",
       "      <td>female</td>\n",
       "      <td>38.0</td>\n",
       "      <td>1</td>\n",
       "      <td>0</td>\n",
       "      <td>PC 17599</td>\n",
       "      <td>71.2833</td>\n",
       "      <td>C85</td>\n",
       "      <td>C</td>\n",
       "    </tr>\n",
       "    <tr>\n",
       "      <th>2</th>\n",
       "      <td>3</td>\n",
       "      <td>1</td>\n",
       "      <td>3</td>\n",
       "      <td>Heikkinen, Miss. Laina</td>\n",
       "      <td>female</td>\n",
       "      <td>26.0</td>\n",
       "      <td>0</td>\n",
       "      <td>0</td>\n",
       "      <td>STON/O2. 3101282</td>\n",
       "      <td>7.9250</td>\n",
       "      <td>NaN</td>\n",
       "      <td>S</td>\n",
       "    </tr>\n",
       "    <tr>\n",
       "      <th>3</th>\n",
       "      <td>4</td>\n",
       "      <td>1</td>\n",
       "      <td>1</td>\n",
       "      <td>Futrelle, Mrs. Jacques Heath (Lily May Peel)</td>\n",
       "      <td>female</td>\n",
       "      <td>35.0</td>\n",
       "      <td>1</td>\n",
       "      <td>0</td>\n",
       "      <td>113803</td>\n",
       "      <td>53.1000</td>\n",
       "      <td>C123</td>\n",
       "      <td>S</td>\n",
       "    </tr>\n",
       "    <tr>\n",
       "      <th>4</th>\n",
       "      <td>5</td>\n",
       "      <td>0</td>\n",
       "      <td>3</td>\n",
       "      <td>Allen, Mr. William Henry</td>\n",
       "      <td>male</td>\n",
       "      <td>35.0</td>\n",
       "      <td>0</td>\n",
       "      <td>0</td>\n",
       "      <td>373450</td>\n",
       "      <td>8.0500</td>\n",
       "      <td>NaN</td>\n",
       "      <td>S</td>\n",
       "    </tr>\n",
       "  </tbody>\n",
       "</table>\n",
       "</div>"
      ],
      "text/plain": [
       "   PassengerId  Survived  Pclass  \\\n",
       "0            1         0       3   \n",
       "1            2         1       1   \n",
       "2            3         1       3   \n",
       "3            4         1       1   \n",
       "4            5         0       3   \n",
       "\n",
       "                                                Name     Sex   Age  SibSp  \\\n",
       "0                            Braund, Mr. Owen Harris    male  22.0      1   \n",
       "1  Cumings, Mrs. John Bradley (Florence Briggs Th...  female  38.0      1   \n",
       "2                             Heikkinen, Miss. Laina  female  26.0      0   \n",
       "3       Futrelle, Mrs. Jacques Heath (Lily May Peel)  female  35.0      1   \n",
       "4                           Allen, Mr. William Henry    male  35.0      0   \n",
       "\n",
       "   Parch            Ticket     Fare Cabin Embarked  \n",
       "0      0         A/5 21171   7.2500   NaN        S  \n",
       "1      0          PC 17599  71.2833   C85        C  \n",
       "2      0  STON/O2. 3101282   7.9250   NaN        S  \n",
       "3      0            113803  53.1000  C123        S  \n",
       "4      0            373450   8.0500   NaN        S  "
      ]
     },
     "execution_count": 15,
     "metadata": {},
     "output_type": "execute_result"
    }
   ],
   "source": [
    "import pandas as pd\n",
    "import numpy as np\n",
    "titanic_survival = pd.read_csv(\"titanic_train.csv\")\n",
    "titanic_survival.head()"
   ]
  },
  {
   "cell_type": "code",
   "execution_count": 16,
   "metadata": {
    "collapsed": false
   },
   "outputs": [
    {
     "name": "stdout",
     "output_type": "stream",
     "text": [
      "177\n"
     ]
    }
   ],
   "source": [
    "#The Pandas library uses NaN, which stands for \"not a number\", to indicate a missing value.\n",
    "#we can use the pandas.isnull() function which takes a pandas series and returns a series of True and False values\n",
    "age = titanic_survival[\"Age\"]\n",
    "#print(age.loc[0:10])\n",
    "age_is_null = pd.isnull(age)\n",
    "#print age_is_null\n",
    "age_null_true = age[age_is_null]\n",
    "#print age_null_true\n",
    "age_null_count = len(age_null_true)\n",
    "print(age_null_count)"
   ]
  },
  {
   "cell_type": "code",
   "execution_count": 17,
   "metadata": {
    "collapsed": false
   },
   "outputs": [
    {
     "name": "stdout",
     "output_type": "stream",
     "text": [
      "nan\n"
     ]
    }
   ],
   "source": [
    "#The result of this is that mean_age would be nan. This is because any calculations we do with a null value also result in a null value\n",
    "mean_age = sum(titanic_survival[\"Age\"]) / len(titanic_survival[\"Age\"])\n",
    "print (mean_age)"
   ]
  },
  {
   "cell_type": "code",
   "execution_count": 18,
   "metadata": {
    "collapsed": false
   },
   "outputs": [
    {
     "name": "stdout",
     "output_type": "stream",
     "text": [
      "29.6991176471\n"
     ]
    }
   ],
   "source": [
    "#we have to filter out the missing values before we calculate the mean.\n",
    "good_ages = titanic_survival[\"Age\"][age_is_null == False]\n",
    "#print good_ages\n",
    "correct_mean_age = sum(good_ages) / len(good_ages)\n",
    "print (correct_mean_age)"
   ]
  },
  {
   "cell_type": "code",
   "execution_count": 19,
   "metadata": {
    "collapsed": false
   },
   "outputs": [
    {
     "name": "stdout",
     "output_type": "stream",
     "text": [
      "29.69911764705882\n"
     ]
    }
   ],
   "source": [
    "# missing data is so common that many pandas methods automatically filter for it\n",
    "correct_mean_age = titanic_survival[\"Age\"].mean()\n",
    "print( correct_mean_age)"
   ]
  },
  {
   "cell_type": "code",
   "execution_count": 20,
   "metadata": {
    "collapsed": false
   },
   "outputs": [
    {
     "name": "stdout",
     "output_type": "stream",
     "text": [
      "{1: 84.15468749999992, 2: 20.66218315217391, 3: 13.675550101832997}\n"
     ]
    }
   ],
   "source": [
    "#mean fare for each class\n",
    "passenger_classes = [1, 2, 3]\n",
    "fares_by_class = {}\n",
    "for this_class in passenger_classes:\n",
    "    pclass_rows = titanic_survival[titanic_survival[\"Pclass\"] == this_class]\n",
    "    pclass_fares = pclass_rows[\"Fare\"]\n",
    "    fare_for_class = pclass_fares.mean()\n",
    "    fares_by_class[this_class] = fare_for_class\n",
    "print (fares_by_class)"
   ]
  },
  {
   "cell_type": "code",
   "execution_count": 21,
   "metadata": {
    "collapsed": false
   },
   "outputs": [
    {
     "name": "stdout",
     "output_type": "stream",
     "text": [
      "Pclass\n",
      "1    0.629630\n",
      "2    0.472826\n",
      "3    0.242363\n",
      "Name: Survived, dtype: float64\n"
     ]
    }
   ],
   "source": [
    "#index tells the method which column to group by\n",
    "#values is the column that we want to apply the calculation to\n",
    "#aggfunc specifies the calculation we want to perform\n",
    "passenger_survival = titanic_survival.pivot_table(index=\"Pclass\", values=\"Survived\", aggfunc=np.mean)\n",
    "print (passenger_survival)"
   ]
  },
  {
   "cell_type": "code",
   "execution_count": 22,
   "metadata": {
    "collapsed": false
   },
   "outputs": [
    {
     "name": "stdout",
     "output_type": "stream",
     "text": [
      "Pclass\n",
      "1    38.233441\n",
      "2    29.877630\n",
      "3    25.140620\n",
      "Name: Age, dtype: float64\n"
     ]
    }
   ],
   "source": [
    "passenger_age = titanic_survival.pivot_table(index=\"Pclass\", values=\"Age\")\n",
    "print(passenger_age)"
   ]
  },
  {
   "cell_type": "code",
   "execution_count": 23,
   "metadata": {
    "collapsed": false
   },
   "outputs": [
    {
     "name": "stdout",
     "output_type": "stream",
     "text": [
      "                Fare  Survived\n",
      "Embarked                      \n",
      "C         10072.2962        93\n",
      "Q          1022.2543        30\n",
      "S         17439.3988       217\n"
     ]
    }
   ],
   "source": [
    "port_stats = titanic_survival.pivot_table(index=\"Embarked\", values=[\"Fare\",\"Survived\"], aggfunc=np.sum)\n",
    "print(port_stats)"
   ]
  },
  {
   "cell_type": "code",
   "execution_count": 24,
   "metadata": {
    "collapsed": true
   },
   "outputs": [],
   "source": [
    "#specifying axis=1 or axis='columns' will drop any columns that have null values\n",
    "drop_na_columns = titanic_survival.dropna(axis=1)\n",
    "new_titanic_survival = titanic_survival.dropna(axis=0,subset=[\"Age\", \"Sex\"])\n",
    "#print new_titanic_survival"
   ]
  },
  {
   "cell_type": "code",
   "execution_count": 25,
   "metadata": {
    "collapsed": false
   },
   "outputs": [
    {
     "name": "stdout",
     "output_type": "stream",
     "text": [
      "28.0\n"
     ]
    }
   ],
   "source": [
    "row_index_83_age = titanic_survival.loc[83,\"Age\"]\n",
    "row_index_1000_pclass = titanic_survival.loc[766,\"Pclass\"]\n",
    "print (row_index_83_age)\n",
    "#print (row_index_1000_pclass）"
   ]
  },
  {
   "cell_type": "code",
   "execution_count": 26,
   "metadata": {
    "collapsed": false
   },
   "outputs": [
    {
     "name": "stdout",
     "output_type": "stream",
     "text": [
      "     PassengerId  Survived  Pclass                                  Name  \\\n",
      "630          631         1       1  Barkworth, Mr. Algernon Henry Wilson   \n",
      "851          852         0       3                   Svensson, Mr. Johan   \n",
      "493          494         0       1               Artagaveytia, Mr. Ramon   \n",
      "96            97         0       1             Goldschmidt, Mr. George B   \n",
      "116          117         0       3                  Connors, Mr. Patrick   \n",
      "672          673         0       2           Mitchell, Mr. Henry Michael   \n",
      "745          746         0       1          Crosby, Capt. Edward Gifford   \n",
      "33            34         0       2                 Wheadon, Mr. Edward H   \n",
      "54            55         0       1        Ostby, Mr. Engelhart Cornelius   \n",
      "280          281         0       3                      Duane, Mr. Frank   \n",
      "\n",
      "      Sex   Age  SibSp  Parch      Ticket     Fare Cabin Embarked  \n",
      "630  male  80.0      0      0       27042  30.0000   A23        S  \n",
      "851  male  74.0      0      0      347060   7.7750   NaN        S  \n",
      "493  male  71.0      0      0    PC 17609  49.5042   NaN        C  \n",
      "96   male  71.0      0      0    PC 17754  34.6542    A5        C  \n",
      "116  male  70.5      0      0      370369   7.7500   NaN        Q  \n",
      "672  male  70.0      0      0  C.A. 24580  10.5000   NaN        S  \n",
      "745  male  70.0      1      1   WE/P 5735  71.0000   B22        S  \n",
      "33   male  66.0      0      0  C.A. 24579  10.5000   NaN        S  \n",
      "54   male  65.0      0      1      113509  61.9792   B30        C  \n",
      "280  male  65.0      0      0      336439   7.7500   NaN        Q  \n",
      "   PassengerId  Survived  Pclass                                  Name   Sex  \\\n",
      "0          631         1       1  Barkworth, Mr. Algernon Henry Wilson  male   \n",
      "1          852         0       3                   Svensson, Mr. Johan  male   \n",
      "2          494         0       1               Artagaveytia, Mr. Ramon  male   \n",
      "3           97         0       1             Goldschmidt, Mr. George B  male   \n",
      "4          117         0       3                  Connors, Mr. Patrick  male   \n",
      "5          673         0       2           Mitchell, Mr. Henry Michael  male   \n",
      "6          746         0       1          Crosby, Capt. Edward Gifford  male   \n",
      "7           34         0       2                 Wheadon, Mr. Edward H  male   \n",
      "8           55         0       1        Ostby, Mr. Engelhart Cornelius  male   \n",
      "9          281         0       3                      Duane, Mr. Frank  male   \n",
      "\n",
      "    Age  SibSp  Parch      Ticket     Fare Cabin Embarked  \n",
      "0  80.0      0      0       27042  30.0000   A23        S  \n",
      "1  74.0      0      0      347060   7.7750   NaN        S  \n",
      "2  71.0      0      0    PC 17609  49.5042   NaN        C  \n",
      "3  71.0      0      0    PC 17754  34.6542    A5        C  \n",
      "4  70.5      0      0      370369   7.7500   NaN        Q  \n",
      "5  70.0      0      0  C.A. 24580  10.5000   NaN        S  \n",
      "6  70.0      1      1   WE/P 5735  71.0000   B22        S  \n",
      "7  66.0      0      0  C.A. 24579  10.5000   NaN        S  \n",
      "8  65.0      0      1      113509  61.9792   B30        C  \n",
      "9  65.0      0      0      336439   7.7500   NaN        Q  \n"
     ]
    }
   ],
   "source": [
    "new_titanic_survival = titanic_survival.sort_values(\"Age\",ascending=False)\n",
    "print (new_titanic_survival[0:10])\n",
    "titanic_reindexed = new_titanic_survival.reset_index(drop=True)\n",
    "print(titanic_reindexed.iloc[0:10])"
   ]
  },
  {
   "cell_type": "code",
   "execution_count": 27,
   "metadata": {
    "collapsed": false
   },
   "outputs": [
    {
     "name": "stdout",
     "output_type": "stream",
     "text": [
      "PassengerId                  100\n",
      "Survived                       0\n",
      "Pclass                         2\n",
      "Name           Kantor, Mr. Sinai\n",
      "Sex                         male\n",
      "Age                           34\n",
      "SibSp                          1\n",
      "Parch                          0\n",
      "Ticket                    244367\n",
      "Fare                          26\n",
      "Cabin                        NaN\n",
      "Embarked                       S\n",
      "dtype: object\n"
     ]
    }
   ],
   "source": [
    "# This function returns the hundredth item from a series\n",
    "def hundredth_row(column):\n",
    "    # Extract the hundredth item\n",
    "    hundredth_item = column.iloc[99]\n",
    "    return hundredth_item\n",
    "\n",
    "# Return the hundredth item from each column\n",
    "hundredth_row = titanic_survival.apply(hundredth_row)\n",
    "print (hundredth_row)"
   ]
  },
  {
   "cell_type": "code",
   "execution_count": 28,
   "metadata": {
    "collapsed": false
   },
   "outputs": [
    {
     "name": "stdout",
     "output_type": "stream",
     "text": [
      "PassengerId      0\n",
      "Survived         0\n",
      "Pclass           0\n",
      "Name             0\n",
      "Sex              0\n",
      "Age            177\n",
      "SibSp            0\n",
      "Parch            0\n",
      "Ticket           0\n",
      "Fare             0\n",
      "Cabin          687\n",
      "Embarked         2\n",
      "dtype: int64\n"
     ]
    }
   ],
   "source": [
    "def not_null_count(column):\n",
    "    column_null = pd.isnull(column)\n",
    "    null = column[column_null]\n",
    "    return len(null)\n",
    "\n",
    "column_null_count = titanic_survival.apply(not_null_count)\n",
    "print (column_null_count)"
   ]
  },
  {
   "cell_type": "code",
   "execution_count": 29,
   "metadata": {
    "collapsed": false
   },
   "outputs": [
    {
     "name": "stdout",
     "output_type": "stream",
     "text": [
      "0       Third Class\n",
      "1       First Class\n",
      "2       Third Class\n",
      "3       First Class\n",
      "4       Third Class\n",
      "5       Third Class\n",
      "6       First Class\n",
      "7       Third Class\n",
      "8       Third Class\n",
      "9      Second Class\n",
      "10      Third Class\n",
      "11      First Class\n",
      "12      Third Class\n",
      "13      Third Class\n",
      "14      Third Class\n",
      "15     Second Class\n",
      "16      Third Class\n",
      "17     Second Class\n",
      "18      Third Class\n",
      "19      Third Class\n",
      "20     Second Class\n",
      "21     Second Class\n",
      "22      Third Class\n",
      "23      First Class\n",
      "24      Third Class\n",
      "25      Third Class\n",
      "26      Third Class\n",
      "27      First Class\n",
      "28      Third Class\n",
      "29      Third Class\n",
      "           ...     \n",
      "861    Second Class\n",
      "862     First Class\n",
      "863     Third Class\n",
      "864    Second Class\n",
      "865    Second Class\n",
      "866    Second Class\n",
      "867     First Class\n",
      "868     Third Class\n",
      "869     Third Class\n",
      "870     Third Class\n",
      "871     First Class\n",
      "872     First Class\n",
      "873     Third Class\n",
      "874    Second Class\n",
      "875     Third Class\n",
      "876     Third Class\n",
      "877     Third Class\n",
      "878     Third Class\n",
      "879     First Class\n",
      "880    Second Class\n",
      "881     Third Class\n",
      "882     Third Class\n",
      "883    Second Class\n",
      "884     Third Class\n",
      "885     Third Class\n",
      "886    Second Class\n",
      "887     First Class\n",
      "888     Third Class\n",
      "889     First Class\n",
      "890     Third Class\n",
      "dtype: object\n"
     ]
    }
   ],
   "source": [
    "#By passing in the axis=1 argument, we can use the DataFrame.apply() method to iterate over rows instead of columns.\n",
    "def which_class(row):\n",
    "    pclass = row['Pclass']\n",
    "    if pd.isnull(pclass):\n",
    "        return \"Unknown\"\n",
    "    elif pclass == 1:\n",
    "        return \"First Class\"\n",
    "    elif pclass == 2:\n",
    "        return \"Second Class\"\n",
    "    elif pclass == 3:\n",
    "        return \"Third Class\"\n",
    "\n",
    "classes = titanic_survival.apply(which_class, axis=1)\n",
    "print (classes)"
   ]
  },
  {
   "cell_type": "code",
   "execution_count": 30,
   "metadata": {
    "collapsed": false
   },
   "outputs": [
    {
     "name": "stdout",
     "output_type": "stream",
     "text": [
      "0        adult\n",
      "1        adult\n",
      "2        adult\n",
      "3        adult\n",
      "4        adult\n",
      "5      unknown\n",
      "6        adult\n",
      "7        minor\n",
      "8        adult\n",
      "9        minor\n",
      "10       minor\n",
      "11       adult\n",
      "12       adult\n",
      "13       adult\n",
      "14       minor\n",
      "15       adult\n",
      "16       minor\n",
      "17     unknown\n",
      "18       adult\n",
      "19     unknown\n",
      "20       adult\n",
      "21       adult\n",
      "22       minor\n",
      "23       adult\n",
      "24       minor\n",
      "25       adult\n",
      "26     unknown\n",
      "27       adult\n",
      "28     unknown\n",
      "29     unknown\n",
      "        ...   \n",
      "861      adult\n",
      "862      adult\n",
      "863    unknown\n",
      "864      adult\n",
      "865      adult\n",
      "866      adult\n",
      "867      adult\n",
      "868    unknown\n",
      "869      minor\n",
      "870      adult\n",
      "871      adult\n",
      "872      adult\n",
      "873      adult\n",
      "874      adult\n",
      "875      minor\n",
      "876      adult\n",
      "877      adult\n",
      "878    unknown\n",
      "879      adult\n",
      "880      adult\n",
      "881      adult\n",
      "882      adult\n",
      "883      adult\n",
      "884      adult\n",
      "885      adult\n",
      "886      adult\n",
      "887      adult\n",
      "888    unknown\n",
      "889      adult\n",
      "890      adult\n",
      "dtype: object\n"
     ]
    }
   ],
   "source": [
    "def is_minor(row):\n",
    "    if row[\"Age\"] < 18:\n",
    "        return True\n",
    "    else:\n",
    "        return False\n",
    "\n",
    "minors = titanic_survival.apply(is_minor, axis=1)\n",
    "#print minors\n",
    "\n",
    "def generate_age_label(row):\n",
    "    age = row[\"Age\"]\n",
    "    if pd.isnull(age):\n",
    "        return \"unknown\"\n",
    "    elif age < 18:\n",
    "        return \"minor\"\n",
    "    else:\n",
    "        return \"adult\"\n",
    "\n",
    "age_labels = titanic_survival.apply(generate_age_label, axis=1)\n",
    "print (age_labels)"
   ]
  },
  {
   "cell_type": "code",
   "execution_count": 31,
   "metadata": {
    "collapsed": false
   },
   "outputs": [
    {
     "name": "stdout",
     "output_type": "stream",
     "text": [
      "age_labels\n",
      "adult      0.381032\n",
      "minor      0.539823\n",
      "unknown    0.293785\n",
      "Name: Survived, dtype: float64\n"
     ]
    }
   ],
   "source": [
    "titanic_survival['age_labels'] = age_labels\n",
    "age_group_survival = titanic_survival.pivot_table(index=\"age_labels\", values=\"Survived\")\n",
    "print (age_group_survival)"
   ]
  },
  {
   "cell_type": "markdown",
   "metadata": {},
   "source": [
    "四"
   ]
  },
  {
   "cell_type": "code",
   "execution_count": 32,
   "metadata": {
    "collapsed": true
   },
   "outputs": [],
   "source": [
    "#Series (collection of values)\n",
    "#DataFrame (collection of Series objects)\n",
    "#Panel (collection of DataFrame objects)"
   ]
  },
  {
   "cell_type": "code",
   "execution_count": 33,
   "metadata": {
    "collapsed": true
   },
   "outputs": [],
   "source": [
    "#A Series object can hold many data types, including\n",
    "#float - for representing float values\n",
    "#int - for representing integer values\n",
    "#bool - for representing Boolean values\n",
    "#datetime64[ns] - for representing date & time, without time-zone\n",
    "#datetime64[ns, tz] - for representing date & time, with time-zone\n",
    "#timedelta[ns] - for representing differences in dates & times (seconds, minutes, etc.)\n",
    "#category - for representing categorical values\n",
    "#object - for representing String values\n",
    "\n",
    "#FILM - film name\n",
    "#RottenTomatoes - Rotten Tomatoes critics average score\n",
    "#RottenTomatoes_User - Rotten Tomatoes user average score\n",
    "#RT_norm - Rotten Tomatoes critics average score (normalized to a 0 to 5 point system)\n",
    "#RT_user_norm - Rotten Tomatoes user average score (normalized to a 0 to 5 point system)\n",
    "#Metacritic - Metacritic critics average score\n",
    "#Metacritic_User - Metacritic user average score"
   ]
  },
  {
   "cell_type": "code",
   "execution_count": 34,
   "metadata": {
    "collapsed": false
   },
   "outputs": [
    {
     "name": "stdout",
     "output_type": "stream",
     "text": [
      "0    Avengers: Age of Ultron (2015)\n",
      "1                 Cinderella (2015)\n",
      "2                    Ant-Man (2015)\n",
      "3            Do You Believe? (2015)\n",
      "4     Hot Tub Time Machine 2 (2015)\n",
      "Name: FILM, dtype: object\n",
      "0    74\n",
      "1    85\n",
      "2    80\n",
      "3    18\n",
      "4    14\n",
      "Name: RottenTomatoes, dtype: int64\n"
     ]
    }
   ],
   "source": [
    "import pandas as pd\n",
    "fandango = pd.read_csv('fandango_score_comparison.csv')\n",
    "series_film = fandango['FILM']\n",
    "print(series_film[0:5])\n",
    "series_rt = fandango['RottenTomatoes']\n",
    "print (series_rt[0:5])"
   ]
  },
  {
   "cell_type": "code",
   "execution_count": 35,
   "metadata": {
    "collapsed": false
   },
   "outputs": [
    {
     "data": {
      "text/plain": [
       "Minions (2015)      54\n",
       "Leviathan (2014)    99\n",
       "dtype: int64"
      ]
     },
     "execution_count": 35,
     "metadata": {},
     "output_type": "execute_result"
    }
   ],
   "source": [
    "# Import the Series object from pandas\n",
    "from pandas import Series\n",
    "\n",
    "film_names = series_film.values\n",
    "#print type(film_names)\n",
    "#print film_names\n",
    "rt_scores = series_rt.values\n",
    "#print rt_scores\n",
    "series_custom = Series(rt_scores , index=film_names)\n",
    "series_custom[['Minions (2015)', 'Leviathan (2014)']]"
   ]
  },
  {
   "cell_type": "code",
   "execution_count": 36,
   "metadata": {
    "collapsed": false
   },
   "outputs": [
    {
     "name": "stdout",
     "output_type": "stream",
     "text": [
      "The Water Diviner (2015)        63\n",
      "Irrational Man (2015)           42\n",
      "Top Five (2014)                 86\n",
      "Shaun the Sheep Movie (2015)    99\n",
      "Love & Mercy (2015)             89\n",
      "dtype: int64\n"
     ]
    }
   ],
   "source": [
    "# int index is also aviable\n",
    "series_custom = Series(rt_scores , index=film_names)\n",
    "series_custom[['Minions (2015)', 'Leviathan (2014)']]\n",
    "fiveten = series_custom[5:10]\n",
    "print(fiveten)"
   ]
  },
  {
   "cell_type": "code",
   "execution_count": 37,
   "metadata": {
    "collapsed": true
   },
   "outputs": [],
   "source": [
    "original_index = series_custom.index.tolist()\n",
    "#print original_index\n",
    "sorted_index = sorted(original_index)\n",
    "sorted_by_index = series_custom.reindex(sorted_index)\n",
    "#print sorted_by_index"
   ]
  },
  {
   "cell_type": "code",
   "execution_count": 38,
   "metadata": {
    "collapsed": false
   },
   "outputs": [
    {
     "name": "stdout",
     "output_type": "stream",
     "text": [
      "Paul Blart: Mall Cop 2 (2015)     5\n",
      "Hitman: Agent 47 (2015)           7\n",
      "Hot Pursuit (2015)                8\n",
      "Fantastic Four (2015)             9\n",
      "Taken 3 (2015)                    9\n",
      "The Boy Next Door (2015)         10\n",
      "The Loft (2015)                  11\n",
      "Unfinished Business (2015)       11\n",
      "Mortdecai (2015)                 12\n",
      "Seventh Son (2015)               12\n",
      "dtype: int64\n"
     ]
    }
   ],
   "source": [
    "sc2 = series_custom.sort_index()\n",
    "sc3 = series_custom.sort_values()\n",
    "#print(sc2[0:10])\n",
    "print(sc3[0:10])"
   ]
  },
  {
   "cell_type": "code",
   "execution_count": 39,
   "metadata": {
    "collapsed": false
   },
   "outputs": [
    {
     "ename": "SyntaxError",
     "evalue": "invalid syntax (<ipython-input-39-b5da0574c4de>, line 4)",
     "output_type": "error",
     "traceback": [
      "\u001b[0;36m  File \u001b[0;32m\"<ipython-input-39-b5da0574c4de>\"\u001b[0;36m, line \u001b[0;32m4\u001b[0m\n\u001b[0;31m    print np.add(series_custom, series_custom)\u001b[0m\n\u001b[0m           ^\u001b[0m\n\u001b[0;31mSyntaxError\u001b[0m\u001b[0;31m:\u001b[0m invalid syntax\n"
     ]
    }
   ],
   "source": [
    "#The values in a Series object are treated as an ndarray, the core data type in NumPy\n",
    "import numpy as np\n",
    "# Add each value with each other\n",
    "print np.add(series_custom, series_custom)\n",
    "# Apply sine function to each value\n",
    "np.sin(series_custom)\n",
    "# Return the highest value (will return a single value not a Series)\n",
    "np.max(series_custom)"
   ]
  },
  {
   "cell_type": "code",
   "execution_count": 40,
   "metadata": {
    "collapsed": false
   },
   "outputs": [
    {
     "name": "stdout",
     "output_type": "stream",
     "text": [
      "Avengers: Age of Ultron (2015)                                            74\n",
      "The Water Diviner (2015)                                                  63\n",
      "Unbroken (2014)                                                           51\n",
      "Southpaw (2015)                                                           59\n",
      "Insidious: Chapter 3 (2015)                                               59\n",
      "The Man From U.N.C.L.E. (2015)                                            68\n",
      "Run All Night (2015)                                                      60\n",
      "5 Flights Up (2015)                                                       52\n",
      "Welcome to Me (2015)                                                      71\n",
      "Saint Laurent (2015)                                                      51\n",
      "Maps to the Stars (2015)                                                  60\n",
      "Pitch Perfect 2 (2015)                                                    67\n",
      "The Age of Adaline (2015)                                                 54\n",
      "The DUFF (2015)                                                           71\n",
      "Ricki and the Flash (2015)                                                64\n",
      "Unfriended (2015)                                                         60\n",
      "American Sniper (2015)                                                    72\n",
      "The Hobbit: The Battle of the Five Armies (2014)                          61\n",
      "Paper Towns (2015)                                                        55\n",
      "Big Eyes (2014)                                                           72\n",
      "Maggie (2015)                                                             54\n",
      "Focus (2015)                                                              57\n",
      "The Second Best Exotic Marigold Hotel (2015)                              62\n",
      "The 100-Year-Old Man Who Climbed Out the Window and Disappeared (2015)    67\n",
      "Escobar: Paradise Lost (2015)                                             52\n",
      "Into the Woods (2014)                                                     71\n",
      "Inherent Vice (2014)                                                      73\n",
      "Magic Mike XXL (2015)                                                     62\n",
      "Woman in Gold (2015)                                                      52\n",
      "The Last Five Years (2015)                                                60\n",
      "Jurassic World (2015)                                                     71\n",
      "Minions (2015)                                                            54\n",
      "Spare Parts (2015)                                                        52\n",
      "dtype: int64\n"
     ]
    }
   ],
   "source": [
    "#will actually return a Series object with a boolean value for each film\n",
    "series_custom > 50\n",
    "series_greater_than_50 = series_custom[series_custom > 50]\n",
    "\n",
    "criteria_one = series_custom > 50\n",
    "criteria_two = series_custom < 75\n",
    "both_criteria = series_custom[criteria_one & criteria_two]\n",
    "print (both_criteria)"
   ]
  },
  {
   "cell_type": "code",
   "execution_count": 41,
   "metadata": {
    "collapsed": false
   },
   "outputs": [
    {
     "name": "stdout",
     "output_type": "stream",
     "text": [
      "FILM\n",
      "Avengers: Age of Ultron (2015)                    80.0\n",
      "Cinderella (2015)                                 82.5\n",
      "Ant-Man (2015)                                    85.0\n",
      "Do You Believe? (2015)                            51.0\n",
      "Hot Tub Time Machine 2 (2015)                     21.0\n",
      "The Water Diviner (2015)                          62.5\n",
      "Irrational Man (2015)                             47.5\n",
      "Top Five (2014)                                   75.0\n",
      "Shaun the Sheep Movie (2015)                      90.5\n",
      "Love & Mercy (2015)                               88.0\n",
      "Far From The Madding Crowd (2015)                 80.5\n",
      "Black Sea (2015)                                  71.0\n",
      "Leviathan (2014)                                  89.0\n",
      "Unbroken (2014)                                   60.5\n",
      "The Imitation Game (2014)                         91.0\n",
      "Taken 3 (2015)                                    27.5\n",
      "Ted 2 (2015)                                      52.0\n",
      "Southpaw (2015)                                   69.5\n",
      "Night at the Museum: Secret of the Tomb (2014)    54.0\n",
      "Pixels (2015)                                     35.5\n",
      "McFarland, USA (2015)                             84.0\n",
      "Insidious: Chapter 3 (2015)                       57.5\n",
      "The Man From U.N.C.L.E. (2015)                    74.0\n",
      "Run All Night (2015)                              59.5\n",
      "Trainwreck (2015)                                 79.5\n",
      "Selma (2014)                                      92.5\n",
      "Ex Machina (2015)                                 89.0\n",
      "Still Alice (2015)                                86.5\n",
      "Wild Tales (2014)                                 94.0\n",
      "The End of the Tour (2015)                        90.5\n",
      "                                                  ... \n",
      "Clouds of Sils Maria (2015)                       78.0\n",
      "Testament of Youth (2015)                         80.0\n",
      "Infinitely Polar Bear (2015)                      78.0\n",
      "Phoenix (2015)                                    90.0\n",
      "The Wolfpack (2015)                               78.5\n",
      "The Stanford Prison Experiment (2015)             85.5\n",
      "Tangerine (2015)                                  90.5\n",
      "Magic Mike XXL (2015)                             63.0\n",
      "Home (2015)                                       55.0\n",
      "The Wedding Ringer (2015)                         46.5\n",
      "Woman in Gold (2015)                              66.5\n",
      "The Last Five Years (2015)                        60.0\n",
      "Mission: Impossible â€“ Rogue Nation (2015)       91.0\n",
      "Amy (2015)                                        94.0\n",
      "Jurassic World (2015)                             76.0\n",
      "Minions (2015)                                    53.0\n",
      "Max (2015)                                        54.0\n",
      "Paul Blart: Mall Cop 2 (2015)                     20.5\n",
      "The Longest Ride (2015)                           52.0\n",
      "The Lazarus Effect (2015)                         18.5\n",
      "The Woman In Black 2 Angel of Death (2015)        23.5\n",
      "Danny Collins (2015)                              76.0\n",
      "Spare Parts (2015)                                67.5\n",
      "Serena (2015)                                     21.5\n",
      "Inside Out (2015)                                 94.0\n",
      "Mr. Holmes (2015)                                 82.5\n",
      "'71 (2015)                                        89.5\n",
      "Two Days, One Night (2014)                        87.5\n",
      "Gett: The Trial of Viviane Amsalem (2015)         90.5\n",
      "Kumiko, The Treasure Hunter (2015)                75.0\n",
      "dtype: float64\n"
     ]
    }
   ],
   "source": [
    "#data alignment same index\n",
    "rt_critics = Series(fandango['RottenTomatoes'].values, index=fandango['FILM'])\n",
    "rt_users = Series(fandango['RottenTomatoes_User'].values, index=fandango['FILM'])\n",
    "rt_mean = (rt_critics + rt_users)/2\n",
    "\n",
    "print(rt_mean)"
   ]
  },
  {
   "cell_type": "markdown",
   "metadata": {},
   "source": [
    "五"
   ]
  },
  {
   "cell_type": "code",
   "execution_count": 42,
   "metadata": {
    "collapsed": false
   },
   "outputs": [
    {
     "name": "stdout",
     "output_type": "stream",
     "text": [
      "<class 'pandas.core.frame.DataFrame'>\n"
     ]
    }
   ],
   "source": [
    "#will return a new DataFrame that is indexed by the values in the specified column \n",
    "#and will drop that column from the DataFrame\n",
    "#without the FILM column dropped \n",
    "fandango = pd.read_csv('fandango_score_comparison.csv')\n",
    "print (type(fandango))\n",
    "fandango_films = fandango.set_index('FILM', drop=False)\n",
    "#print(fandango_films.index)"
   ]
  },
  {
   "cell_type": "code",
   "execution_count": 43,
   "metadata": {
    "collapsed": false
   },
   "outputs": [
    {
     "data": {
      "text/html": [
       "<div>\n",
       "<table border=\"1\" class=\"dataframe\">\n",
       "  <thead>\n",
       "    <tr style=\"text-align: right;\">\n",
       "      <th></th>\n",
       "      <th>FILM</th>\n",
       "      <th>RottenTomatoes</th>\n",
       "      <th>RottenTomatoes_User</th>\n",
       "      <th>Metacritic</th>\n",
       "      <th>Metacritic_User</th>\n",
       "      <th>IMDB</th>\n",
       "      <th>Fandango_Stars</th>\n",
       "      <th>Fandango_Ratingvalue</th>\n",
       "      <th>RT_norm</th>\n",
       "      <th>RT_user_norm</th>\n",
       "      <th>...</th>\n",
       "      <th>IMDB_norm</th>\n",
       "      <th>RT_norm_round</th>\n",
       "      <th>RT_user_norm_round</th>\n",
       "      <th>Metacritic_norm_round</th>\n",
       "      <th>Metacritic_user_norm_round</th>\n",
       "      <th>IMDB_norm_round</th>\n",
       "      <th>Metacritic_user_vote_count</th>\n",
       "      <th>IMDB_user_vote_count</th>\n",
       "      <th>Fandango_votes</th>\n",
       "      <th>Fandango_Difference</th>\n",
       "    </tr>\n",
       "    <tr>\n",
       "      <th>FILM</th>\n",
       "      <th></th>\n",
       "      <th></th>\n",
       "      <th></th>\n",
       "      <th></th>\n",
       "      <th></th>\n",
       "      <th></th>\n",
       "      <th></th>\n",
       "      <th></th>\n",
       "      <th></th>\n",
       "      <th></th>\n",
       "      <th></th>\n",
       "      <th></th>\n",
       "      <th></th>\n",
       "      <th></th>\n",
       "      <th></th>\n",
       "      <th></th>\n",
       "      <th></th>\n",
       "      <th></th>\n",
       "      <th></th>\n",
       "      <th></th>\n",
       "      <th></th>\n",
       "    </tr>\n",
       "  </thead>\n",
       "  <tbody>\n",
       "    <tr>\n",
       "      <th>Kumiko, The Treasure Hunter (2015)</th>\n",
       "      <td>Kumiko, The Treasure Hunter (2015)</td>\n",
       "      <td>87</td>\n",
       "      <td>63</td>\n",
       "      <td>68</td>\n",
       "      <td>6.4</td>\n",
       "      <td>6.7</td>\n",
       "      <td>3.5</td>\n",
       "      <td>3.5</td>\n",
       "      <td>4.35</td>\n",
       "      <td>3.15</td>\n",
       "      <td>...</td>\n",
       "      <td>3.35</td>\n",
       "      <td>4.5</td>\n",
       "      <td>3.0</td>\n",
       "      <td>3.5</td>\n",
       "      <td>3.0</td>\n",
       "      <td>3.5</td>\n",
       "      <td>19</td>\n",
       "      <td>5289</td>\n",
       "      <td>41</td>\n",
       "      <td>0.0</td>\n",
       "    </tr>\n",
       "    <tr>\n",
       "      <th>Do You Believe? (2015)</th>\n",
       "      <td>Do You Believe? (2015)</td>\n",
       "      <td>18</td>\n",
       "      <td>84</td>\n",
       "      <td>22</td>\n",
       "      <td>4.7</td>\n",
       "      <td>5.4</td>\n",
       "      <td>5.0</td>\n",
       "      <td>4.5</td>\n",
       "      <td>0.90</td>\n",
       "      <td>4.20</td>\n",
       "      <td>...</td>\n",
       "      <td>2.70</td>\n",
       "      <td>1.0</td>\n",
       "      <td>4.0</td>\n",
       "      <td>1.0</td>\n",
       "      <td>2.5</td>\n",
       "      <td>2.5</td>\n",
       "      <td>31</td>\n",
       "      <td>3136</td>\n",
       "      <td>1793</td>\n",
       "      <td>0.5</td>\n",
       "    </tr>\n",
       "    <tr>\n",
       "      <th>Ant-Man (2015)</th>\n",
       "      <td>Ant-Man (2015)</td>\n",
       "      <td>80</td>\n",
       "      <td>90</td>\n",
       "      <td>64</td>\n",
       "      <td>8.1</td>\n",
       "      <td>7.8</td>\n",
       "      <td>5.0</td>\n",
       "      <td>4.5</td>\n",
       "      <td>4.00</td>\n",
       "      <td>4.50</td>\n",
       "      <td>...</td>\n",
       "      <td>3.90</td>\n",
       "      <td>4.0</td>\n",
       "      <td>4.5</td>\n",
       "      <td>3.0</td>\n",
       "      <td>4.0</td>\n",
       "      <td>4.0</td>\n",
       "      <td>627</td>\n",
       "      <td>103660</td>\n",
       "      <td>12055</td>\n",
       "      <td>0.5</td>\n",
       "    </tr>\n",
       "  </tbody>\n",
       "</table>\n",
       "<p>3 rows × 22 columns</p>\n",
       "</div>"
      ],
      "text/plain": [
       "                                                                  FILM  \\\n",
       "FILM                                                                     \n",
       "Kumiko, The Treasure Hunter (2015)  Kumiko, The Treasure Hunter (2015)   \n",
       "Do You Believe? (2015)                          Do You Believe? (2015)   \n",
       "Ant-Man (2015)                                          Ant-Man (2015)   \n",
       "\n",
       "                                    RottenTomatoes  RottenTomatoes_User  \\\n",
       "FILM                                                                      \n",
       "Kumiko, The Treasure Hunter (2015)              87                   63   \n",
       "Do You Believe? (2015)                          18                   84   \n",
       "Ant-Man (2015)                                  80                   90   \n",
       "\n",
       "                                    Metacritic  Metacritic_User  IMDB  \\\n",
       "FILM                                                                    \n",
       "Kumiko, The Treasure Hunter (2015)          68              6.4   6.7   \n",
       "Do You Believe? (2015)                      22              4.7   5.4   \n",
       "Ant-Man (2015)                              64              8.1   7.8   \n",
       "\n",
       "                                    Fandango_Stars  Fandango_Ratingvalue  \\\n",
       "FILM                                                                       \n",
       "Kumiko, The Treasure Hunter (2015)             3.5                   3.5   \n",
       "Do You Believe? (2015)                         5.0                   4.5   \n",
       "Ant-Man (2015)                                 5.0                   4.5   \n",
       "\n",
       "                                    RT_norm  RT_user_norm  \\\n",
       "FILM                                                        \n",
       "Kumiko, The Treasure Hunter (2015)     4.35          3.15   \n",
       "Do You Believe? (2015)                 0.90          4.20   \n",
       "Ant-Man (2015)                         4.00          4.50   \n",
       "\n",
       "                                           ...           IMDB_norm  \\\n",
       "FILM                                       ...                       \n",
       "Kumiko, The Treasure Hunter (2015)         ...                3.35   \n",
       "Do You Believe? (2015)                     ...                2.70   \n",
       "Ant-Man (2015)                             ...                3.90   \n",
       "\n",
       "                                    RT_norm_round  RT_user_norm_round  \\\n",
       "FILM                                                                    \n",
       "Kumiko, The Treasure Hunter (2015)            4.5                 3.0   \n",
       "Do You Believe? (2015)                        1.0                 4.0   \n",
       "Ant-Man (2015)                                4.0                 4.5   \n",
       "\n",
       "                                    Metacritic_norm_round  \\\n",
       "FILM                                                        \n",
       "Kumiko, The Treasure Hunter (2015)                    3.5   \n",
       "Do You Believe? (2015)                                1.0   \n",
       "Ant-Man (2015)                                        3.0   \n",
       "\n",
       "                                    Metacritic_user_norm_round  \\\n",
       "FILM                                                             \n",
       "Kumiko, The Treasure Hunter (2015)                         3.0   \n",
       "Do You Believe? (2015)                                     2.5   \n",
       "Ant-Man (2015)                                             4.0   \n",
       "\n",
       "                                    IMDB_norm_round  \\\n",
       "FILM                                                  \n",
       "Kumiko, The Treasure Hunter (2015)              3.5   \n",
       "Do You Believe? (2015)                          2.5   \n",
       "Ant-Man (2015)                                  4.0   \n",
       "\n",
       "                                    Metacritic_user_vote_count  \\\n",
       "FILM                                                             \n",
       "Kumiko, The Treasure Hunter (2015)                          19   \n",
       "Do You Believe? (2015)                                      31   \n",
       "Ant-Man (2015)                                             627   \n",
       "\n",
       "                                    IMDB_user_vote_count  Fandango_votes  \\\n",
       "FILM                                                                       \n",
       "Kumiko, The Treasure Hunter (2015)                  5289              41   \n",
       "Do You Believe? (2015)                              3136            1793   \n",
       "Ant-Man (2015)                                    103660           12055   \n",
       "\n",
       "                                    Fandango_Difference  \n",
       "FILM                                                     \n",
       "Kumiko, The Treasure Hunter (2015)                  0.0  \n",
       "Do You Believe? (2015)                              0.5  \n",
       "Ant-Man (2015)                                      0.5  \n",
       "\n",
       "[3 rows x 22 columns]"
      ]
     },
     "execution_count": 43,
     "metadata": {},
     "output_type": "execute_result"
    }
   ],
   "source": [
    "# Slice using either bracket notation or loc[]\n",
    "fandango_films[\"Avengers: Age of Ultron (2015)\":\"Hot Tub Time Machine 2 (2015)\"]\n",
    "fandango_films.loc[\"Avengers: Age of Ultron (2015)\":\"Hot Tub Time Machine 2 (2015)\"]\n",
    "\n",
    "# Specific movie\n",
    "fandango_films.loc['Kumiko, The Treasure Hunter (2015)']\n",
    "\n",
    "# Selecting list of movies\n",
    "movies = ['Kumiko, The Treasure Hunter (2015)', 'Do You Believe? (2015)', 'Ant-Man (2015)']\n",
    "fandango_films.loc[movies]\n",
    "\n",
    "#When selecting multiple rows, a DataFrame is returned, \n",
    "#but when selecting an individual row, a Series object is returned instead"
   ]
  },
  {
   "cell_type": "code",
   "execution_count": 44,
   "metadata": {
    "collapsed": false
   },
   "outputs": [
    {
     "name": "stdout",
     "output_type": "stream",
     "text": [
      "Metacritic_User               1.505529\n",
      "IMDB                          0.955447\n",
      "Fandango_Stars                0.538532\n",
      "Fandango_Ratingvalue          0.501106\n",
      "RT_norm                       1.503265\n",
      "RT_user_norm                  0.997787\n",
      "Metacritic_norm               0.972522\n",
      "Metacritic_user_nom           0.752765\n",
      "IMDB_norm                     0.477723\n",
      "RT_norm_round                 1.509404\n",
      "RT_user_norm_round            1.003559\n",
      "Metacritic_norm_round         0.987561\n",
      "Metacritic_user_norm_round    0.785412\n",
      "IMDB_norm_round               0.501043\n",
      "Fandango_Difference           0.152141\n",
      "dtype: float64\n"
     ]
    }
   ],
   "source": [
    "#The apply() method in Pandas allows us to specify Python logic\n",
    "#The apply() method requires you to pass in a vectorized operation \n",
    "#that can be applied over each Series object.\n",
    "import numpy as np\n",
    "\n",
    "# returns the data types as a Series\n",
    "types = fandango_films.dtypes\n",
    "#print types\n",
    "# filter data types to just floats, index attributes returns just column names\n",
    "float_columns = types[types.values == 'float64'].index\n",
    "# use bracket notation to filter columns to just float columns\n",
    "float_df = fandango_films[float_columns]\n",
    "#print float_df\n",
    "# `x` is a Series object representing a column\n",
    "deviations = float_df.apply(lambda x: np.std(x))\n",
    "\n",
    "print(deviations)"
   ]
  },
  {
   "cell_type": "code",
   "execution_count": 45,
   "metadata": {
    "collapsed": false
   },
   "outputs": [
    {
     "data": {
      "text/plain": [
       "FILM\n",
       "Avengers: Age of Ultron (2015)                    0.375\n",
       "Cinderella (2015)                                 0.125\n",
       "Ant-Man (2015)                                    0.225\n",
       "Do You Believe? (2015)                            0.925\n",
       "Hot Tub Time Machine 2 (2015)                     0.150\n",
       "The Water Diviner (2015)                          0.150\n",
       "Irrational Man (2015)                             0.575\n",
       "Top Five (2014)                                   0.100\n",
       "Shaun the Sheep Movie (2015)                      0.150\n",
       "Love & Mercy (2015)                               0.050\n",
       "Far From The Madding Crowd (2015)                 0.050\n",
       "Black Sea (2015)                                  0.150\n",
       "Leviathan (2014)                                  0.175\n",
       "Unbroken (2014)                                   0.125\n",
       "The Imitation Game (2014)                         0.250\n",
       "Taken 3 (2015)                                    0.000\n",
       "Ted 2 (2015)                                      0.175\n",
       "Southpaw (2015)                                   0.050\n",
       "Night at the Museum: Secret of the Tomb (2014)    0.000\n",
       "Pixels (2015)                                     0.025\n",
       "McFarland, USA (2015)                             0.425\n",
       "Insidious: Chapter 3 (2015)                       0.325\n",
       "The Man From U.N.C.L.E. (2015)                    0.025\n",
       "Run All Night (2015)                              0.350\n",
       "Trainwreck (2015)                                 0.350\n",
       "Selma (2014)                                      0.375\n",
       "Ex Machina (2015)                                 0.175\n",
       "Still Alice (2015)                                0.175\n",
       "Wild Tales (2014)                                 0.100\n",
       "The End of the Tour (2015)                        0.350\n",
       "                                                  ...  \n",
       "Clouds of Sils Maria (2015)                       0.100\n",
       "Testament of Youth (2015)                         0.000\n",
       "Infinitely Polar Bear (2015)                      0.075\n",
       "Phoenix (2015)                                    0.025\n",
       "The Wolfpack (2015)                               0.075\n",
       "The Stanford Prison Experiment (2015)             0.050\n",
       "Tangerine (2015)                                  0.325\n",
       "Magic Mike XXL (2015)                             0.250\n",
       "Home (2015)                                       0.200\n",
       "The Wedding Ringer (2015)                         0.825\n",
       "Woman in Gold (2015)                              0.225\n",
       "The Last Five Years (2015)                        0.225\n",
       "Mission: Impossible â€“ Rogue Nation (2015)       0.250\n",
       "Amy (2015)                                        0.075\n",
       "Jurassic World (2015)                             0.275\n",
       "Minions (2015)                                    0.125\n",
       "Max (2015)                                        0.350\n",
       "Paul Blart: Mall Cop 2 (2015)                     0.300\n",
       "The Longest Ride (2015)                           0.625\n",
       "The Lazarus Effect (2015)                         0.650\n",
       "The Woman In Black 2 Angel of Death (2015)        0.475\n",
       "Danny Collins (2015)                              0.100\n",
       "Spare Parts (2015)                                0.300\n",
       "Serena (2015)                                     0.700\n",
       "Inside Out (2015)                                 0.025\n",
       "Mr. Holmes (2015)                                 0.025\n",
       "'71 (2015)                                        0.175\n",
       "Two Days, One Night (2014)                        0.250\n",
       "Gett: The Trial of Viviane Amsalem (2015)         0.200\n",
       "Kumiko, The Treasure Hunter (2015)                0.025\n",
       "dtype: float64"
      ]
     },
     "execution_count": 45,
     "metadata": {},
     "output_type": "execute_result"
    }
   ],
   "source": [
    "rt_mt_user = float_df[['RT_user_norm', 'Metacritic_user_nom']]\n",
    "rt_mt_user.apply(lambda x: np.std(x), axis=1)"
   ]
  },
  {
   "cell_type": "code",
   "execution_count": null,
   "metadata": {
    "collapsed": true
   },
   "outputs": [],
   "source": []
  },
  {
   "cell_type": "code",
   "execution_count": null,
   "metadata": {
    "collapsed": true
   },
   "outputs": [],
   "source": []
  },
  {
   "cell_type": "code",
   "execution_count": null,
   "metadata": {
    "collapsed": true
   },
   "outputs": [],
   "source": []
  }
 ],
 "metadata": {
  "kernelspec": {
   "display_name": "Python 3",
   "language": "python",
   "name": "python3"
  },
  "language_info": {
   "codemirror_mode": {
    "name": "ipython",
    "version": 3
   },
   "file_extension": ".py",
   "mimetype": "text/x-python",
   "name": "python",
   "nbconvert_exporter": "python",
   "pygments_lexer": "ipython3",
   "version": "3.6.0"
  }
 },
 "nbformat": 4,
 "nbformat_minor": 1
}
